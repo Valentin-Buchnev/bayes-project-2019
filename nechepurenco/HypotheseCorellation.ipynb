{
  "nbformat": 4,
  "nbformat_minor": 0,
  "metadata": {
    "colab": {
      "name": "HypotheseCorellation.ipynb",
      "provenance": []
    },
    "kernelspec": {
      "name": "python3",
      "display_name": "Python 3"
    }
  },
  "cells": [
    {
      "cell_type": "code",
      "metadata": {
        "id": "Zl2nsj1xn5WO",
        "colab_type": "code",
        "colab": {}
      },
      "source": [
        "import numpy as np\n",
        "import matplotlib.pyplot as plt\n",
        "import scipy.stats as sps\n",
        "import seaborn as sns"
      ],
      "execution_count": 0,
      "outputs": []
    },
    {
      "cell_type": "markdown",
      "metadata": {
        "id": "8aDayHsQ2Zzf",
        "colab_type": "text"
      },
      "source": [
        "Коэффициент корелляции Пирсона двух выборок оценивается по формуле\n",
        "$$ \\hat\\theta = \n",
        "\\frac{\n",
        "\\sum\\limits_{i=1}^n(X_i - \\overline{X})(Y_i - \\overline{Y})\n",
        "}{\n",
        "\\sqrt{\\sum\\limits_{i=1}^n(X_i - \\overline{X})^2\n",
        "\\sum\\limits_{j=1}^n(Y_j - \\overline{Y})^2\n",
        "}\n",
        "}\n",
        "$$ \n",
        "Он служит приближением для, собственно, корелляции двух выборок. В некотором приближении справедлива следующая формула:\n",
        "$$arth \\theta | (X, Y) \\sim N(arth \\hat{\\theta}, 1 / n)$$\n",
        "Здесь $arth(x) = \\frac{1}{2}ln\\frac{1+x}{1-x}$ - монотонная функция"
      ]
    },
    {
      "cell_type": "code",
      "metadata": {
        "id": "kPQs5IWW6Td3",
        "colab_type": "code",
        "colab": {}
      },
      "source": [
        "arth = lambda x: 0.5 * np.log(1 + x) / np.log(1 - x)\n",
        "\n",
        "class HypotheseCorellation:\n",
        "# Нужно объединить с другим классом, для случая \n",
        "  def __init__(self):\n",
        "    pass\n",
        "\n",
        "  def test(self, X, Y, test_params):\n",
        "    \"\"\"\n",
        "    :param X: - первая выборка\n",
        "    :param Y: - вторая выборка\n",
        "    :param  test_params - словарь с параметрами гипотезы\n",
        "    обязательно содержит:\n",
        "    \"type_of_test\" - одно из \"modification\", \"lindley\", \"leq\", \"geq\" - тип гипотезы \n",
        "    \"t0\": собственно, точка, относительно которой проверяется гипотеза\n",
        "    для метода модификации гипотезы: \"epsilon\" - радиус \"окрестности\" t0\n",
        "    для метода Линдли - \"conf\" - уроветь зачимости\n",
        "    возвращает метод также словарь, в зависимости от гипотезы может \n",
        "    содержать \"HDR\" в виде концов отрезка - важно: именно для\n",
        "    arth theta, а не theta (за исключением метода модификации критерия), \"rejected\" - для метода Линдли,\n",
        "    \"p0\", \"p1\", \"B\" - апостериорные вероятности и байесовский фактор,\n",
        "    \"post_params\" - ппараметры постериорного распределения, см. выкладки и примеры\n",
        "    применения\n",
        "    \"\"\"\n",
        "    t0 = test_params[\"t0\"]\n",
        "    n = len(X)\n",
        "    test_type = test_params[\"type_of_test\"]\n",
        "\n",
        "    assert test_type in [\"modification\", \"lindley\", \"leq\", \"geq\"], \"unknown test type\"\n",
        "\n",
        "    corr_coef = np.corrcoef(X, Y)[1][0]\n",
        "    t0_arth = arth(t0)\n",
        "    distr = sps.norm(arth(corr_coef), np.sqrt(1/n)) # апостериорное распредение корелляции\n",
        "     \n",
        "    if test_type == \"lindley\":\n",
        "        try:\n",
        "          conf = 1 - test_params[\"conf\"]\n",
        "        except Exception:\n",
        "          print(\"not enough params\")\n",
        "        l, r = distr.ppf((1 - conf)/2), distr.ppf((1 + conf)/2)\n",
        "        reject = False\n",
        "        if t0_arth < l or t0_arth > r:\n",
        "          reject = True\n",
        "        return {\n",
        "            \"reject\":reject,\n",
        "            \"HDR\": (l, r),\n",
        "            \"post_params\": {\n",
        "                \"mean\": arth(corr_coef),\n",
        "                \"sigma^2\": 1/n\n",
        "            } \n",
        "        }\n",
        "\n",
        "    if test_type == \"modification\":\n",
        "          try:\n",
        "            epsilon = test_params[\"epsilon\"]\n",
        "          except Exception:\n",
        "            print(\"not enough params\")\n",
        "          p0 = distr.cdf(arth(t0 + epsilon)) - distr.cdf(arth(t0 - epsilon))\n",
        "\n",
        "          # под HDR в данном случае подразумеваем такую симметричную окрестность  \n",
        "          # среднего, что t0 в неё попадает \"а границе\"\n",
        "\n",
        "          #Возможно, есть смысл сделать по другому?\n",
        "          delta = np.abs(corr_coef - t0)\n",
        "          l, r = (corr_coef- delta, corr_coef + delta)\n",
        "          return {\n",
        "              \"p0\": p0,\n",
        "              \"p1\": 1 - p0,\n",
        "              \"HDR\": (l, r),\n",
        "              \"post_params\": {\n",
        "                  \"mean\": arth(corr_coef),\n",
        "                  \"sigma^2\": 1/n\n",
        "              } \n",
        "          }\n",
        "    \n",
        "    if test_type in [\"leq\", \"geq\"]:\n",
        "      p0 = distr.cdf(t0_arth)\n",
        "      p1 = 1 - p0\n",
        "      if test_type == \"geq\":\n",
        "        p0, p1 = p1, p0\n",
        "      B = p0 / p1\n",
        "      # При чем тут HDR, не очень понял\n",
        "      return {\n",
        "          \"p0\": p0,\n",
        "          \"p1\": p1, \n",
        "          \"B\": B\n",
        "      }"
      ],
      "execution_count": 0,
      "outputs": []
    },
    {
      "cell_type": "code",
      "metadata": {
        "id": "45FM_kF7LCDV",
        "colab_type": "code",
        "colab": {}
      },
      "source": [
        "def generate_sample(corr=0.5, n = 100):\n",
        "  m1 = 1\n",
        "  m2 = 2\n",
        "  d1 = 1\n",
        "  d2 = 2\n",
        "  cov = corr * np.sqrt(d1 * d2)\n",
        "  cov_mat = np.array([\n",
        "      [d1, cov],\n",
        "      [cov, d2]]\n",
        "  )\n",
        "  X, Y = sps.multivariate_normal(mean=np.array([m1, m1]), cov=cov_mat).rvs(n).T\n",
        "  return X, Y"
      ],
      "execution_count": 0,
      "outputs": []
    },
    {
      "cell_type": "markdown",
      "metadata": {
        "id": "-695JGk1NzhI",
        "colab_type": "text"
      },
      "source": [
        "##Примеры применения.\n",
        "Один класс может тестировать различные типы гипотез, в том числе и \"сложная против сложной\""
      ]
    },
    {
      "cell_type": "code",
      "metadata": {
        "id": "ZK1hbNr9n-sk",
        "colab_type": "code",
        "colab": {}
      },
      "source": [
        "hypo = HypotheseCorellation()"
      ],
      "execution_count": 0,
      "outputs": []
    },
    {
      "cell_type": "code",
      "metadata": {
        "id": "-VMct44s6TZw",
        "colab_type": "code",
        "colab": {}
      },
      "source": [
        "X, Y = generate_sample()"
      ],
      "execution_count": 0,
      "outputs": []
    },
    {
      "cell_type": "code",
      "metadata": {
        "id": "-geYG0oUQUZr",
        "colab_type": "code",
        "colab": {
          "base_uri": "https://localhost:8080/",
          "height": 90
        },
        "outputId": "78dfe400-3b1f-4218-8428-0b1d47be5b1b"
      },
      "source": [
        "test_type_2 = {\n",
        "    \"type_of_test\": \"modification\",\n",
        "    \"t0\": 0.5,\n",
        "    \"epsilon\": 0.1,\n",
        "}\n",
        "hypo.test(X, Y, test_type_2)"
      ],
      "execution_count": 139,
      "outputs": [
        {
          "output_type": "execute_result",
          "data": {
            "text/plain": [
              "{'HDR': (0.35854466449975486, 0.5),\n",
              " 'p0': 0.2756893275304756,\n",
              " 'p1': 0.7243106724695244,\n",
              " 'post_params': {'mean': -0.31841832593640074, 'sigma^2': 0.01}}"
            ]
          },
          "metadata": {
            "tags": []
          },
          "execution_count": 139
        }
      ]
    },
    {
      "cell_type": "code",
      "metadata": {
        "id": "LG83OpfIQZqK",
        "colab_type": "code",
        "colab": {
          "base_uri": "https://localhost:8080/",
          "height": 72
        },
        "outputId": "0cc5635d-d63a-45d1-c7b7-8c2edc17c27c"
      },
      "source": [
        "test_type_3 = {\n",
        "    \"type_of_test\": \"lindley\",\n",
        "    \"t0\": 0.5,\n",
        "    \"conf\": 0.05\n",
        "}\n",
        "hypo.test(X, Y, test_type_3)"
      ],
      "execution_count": 141,
      "outputs": [
        {
          "output_type": "execute_result",
          "data": {
            "text/plain": [
              "{'HDR': (-0.5144147243904061, -0.12242192748239533),\n",
              " 'post_params': {'mean': -0.31841832593640074, 'sigma^2': 0.01},\n",
              " 'reject': False}"
            ]
          },
          "metadata": {
            "tags": []
          },
          "execution_count": 141
        }
      ]
    },
    {
      "cell_type": "code",
      "metadata": {
        "id": "bZ3J27--R0QD",
        "colab_type": "code",
        "colab": {
          "base_uri": "https://localhost:8080/",
          "height": 35
        },
        "outputId": "a9ce5ca0-e98c-4238-92e1-7a8bca1e9a72"
      },
      "source": [
        "test_type_4 = {\n",
        "    \"type_of_test\": \"leq\",\n",
        "    \"t0\": 0.7\n",
        "}\n",
        "hypo.test(X, Y, test_type_4)"
      ],
      "execution_count": 143,
      "outputs": [
        {
          "output_type": "execute_result",
          "data": {
            "text/plain": [
              "{'B': 5.119470566293664, 'p0': 0.836587170545758, 'p1': 0.16341282945424196}"
            ]
          },
          "metadata": {
            "tags": []
          },
          "execution_count": 143
        }
      ]
    },
    {
      "cell_type": "code",
      "metadata": {
        "id": "0-_cpLpYUkVi",
        "colab_type": "code",
        "colab": {
          "base_uri": "https://localhost:8080/",
          "height": 35
        },
        "outputId": "51394bd8-cd53-42a6-e1fc-d86fb07da961"
      },
      "source": [
        "test_type_5 = {\n",
        "    \"type_of_test\": \"geq\",\n",
        "    \"t0\": 0.7\n",
        "}\n",
        "hypo.test(X, Y, test_type_5)"
      ],
      "execution_count": 146,
      "outputs": [
        {
          "output_type": "execute_result",
          "data": {
            "text/plain": [
              "{'B': 0.19533269838173298, 'p0': 0.16341282945424196, 'p1': 0.836587170545758}"
            ]
          },
          "metadata": {
            "tags": []
          },
          "execution_count": 146
        }
      ]
    },
    {
      "cell_type": "markdown",
      "metadata": {
        "id": "ZlSklckAR6g2",
        "colab_type": "text"
      },
      "source": [
        "К сожалению, области HDR теперь не очень информативны."
      ]
    },
    {
      "cell_type": "markdown",
      "metadata": {
        "id": "iJudt8RaVeLo",
        "colab_type": "text"
      },
      "source": [
        "Посмотрим, что функции верно работают"
      ]
    },
    {
      "cell_type": "code",
      "metadata": {
        "id": "u8aK1Kc2T_Nv",
        "colab_type": "code",
        "colab": {
          "base_uri": "https://localhost:8080/",
          "height": 126
        },
        "outputId": "f3e93d47-aa80-44c1-bd25-2b1b7fce5c6d"
      },
      "source": [
        "test_type = {\n",
        "    \"type_of_test\": \"leq\",\n",
        "    \"t0\": 0.4\n",
        "}\n",
        "for n in [100, 100, 10000]:\n",
        "  print(\"n: \", n)\n",
        "  X, Y = generate_sample(n=n)\n",
        "  print(hypo.test(X, Y, test_type))"
      ],
      "execution_count": 150,
      "outputs": [
        {
          "output_type": "stream",
          "text": [
            "n:  100\n",
            "{'p0': 0.5778749145361427, 'p1': 0.4221250854638573, 'B': 1.3689660587243655}\n",
            "n:  100\n",
            "{'p0': 0.2891312830443852, 'p1': 0.7108687169556148, 'B': 0.40672950735914565}\n",
            "n:  10000\n",
            "{'p0': 0.00023727939802313888, 'p1': 0.9997627206019769, 'B': 0.00023733571289822475}\n"
          ],
          "name": "stdout"
        }
      ]
    },
    {
      "cell_type": "markdown",
      "metadata": {
        "id": "qga2KNoyWCh-",
        "colab_type": "text"
      },
      "source": [
        "Мы все увереннее отвергаем гипотезу с ростом  n"
      ]
    },
    {
      "cell_type": "code",
      "metadata": {
        "id": "mLw7-0iGVvJG",
        "colab_type": "code",
        "colab": {
          "base_uri": "https://localhost:8080/",
          "height": 126
        },
        "outputId": "ba6aa49e-8c81-477f-c2a9-b61ea4759d32"
      },
      "source": [
        "test_type_3 = {\n",
        "    \"type_of_test\": \"lindley\",\n",
        "    \"t0\": 0.5,\n",
        "    \"conf\": 0.05\n",
        "}\n",
        "for n in [10, 100, 10000]:\n",
        "  print(\"n: \", n)\n",
        "  X, Y = generate_sample(n=n)\n",
        "  print(hypo.test(X, Y, test_type_3))"
      ],
      "execution_count": 166,
      "outputs": [
        {
          "output_type": "stream",
          "text": [
            "n:  10\n",
            "{'reject': False, 'HDR': (-0.9697617980101267, 0.26982826659899634), 'post_params': {'mean': -0.34996676570556523, 'sigma^2': 0.1}}\n",
            "n:  100\n",
            "{'reject': False, 'HDR': (-0.4820940978642314, -0.0901013009562206), 'post_params': {'mean': -0.286097699410226, 'sigma^2': 0.01}}\n",
            "n:  10000\n",
            "{'reject': False, 'HDR': (-0.3162934467012189, -0.27709416701041784), 'post_params': {'mean': -0.29669380685581836, 'sigma^2': 0.0001}}\n"
          ],
          "name": "stdout"
        }
      ]
    },
    {
      "cell_type": "code",
      "metadata": {
        "id": "sYXK99GSWbEV",
        "colab_type": "code",
        "colab": {
          "base_uri": "https://localhost:8080/",
          "height": 126
        },
        "outputId": "08e97411-bb6e-4576-ab8f-eeecfbf6e636"
      },
      "source": [
        "test_type_3 = {\n",
        "    \"type_of_test\": \"lindley\",\n",
        "    \"t0\": 0.4,\n",
        "    \"conf\": 0.05\n",
        "}\n",
        "for n in [10, 100, 10000]:\n",
        "  print(\"n: \", n)\n",
        "  X, Y = generate_sample(n=n)\n",
        "  print(hypo.test(X, Y, test_type_3))"
      ],
      "execution_count": 167,
      "outputs": [
        {
          "output_type": "stream",
          "text": [
            "n:  10\n",
            "{'reject': False, 'HDR': (-0.8916170502513098, 0.34797301435781336), 'post_params': {'mean': -0.2718220179467482, 'sigma^2': 0.1}}\n",
            "n:  100\n",
            "{'reject': False, 'HDR': (-0.4816371473359856, -0.0896443504279748), 'post_params': {'mean': -0.2856407488819802, 'sigma^2': 0.01}}\n",
            "n:  10000\n",
            "{'reject': True, 'HDR': (-0.3092565167976778, -0.27005723710687674), 'post_params': {'mean': -0.28965687695227726, 'sigma^2': 0.0001}}\n"
          ],
          "name": "stdout"
        }
      ]
    },
    {
      "cell_type": "markdown",
      "metadata": {
        "id": "fCcfjz4DWvLa",
        "colab_type": "text"
      },
      "source": [
        "Метод Линдли на практике показал себя не очень мощеным, но работает"
      ]
    },
    {
      "cell_type": "code",
      "metadata": {
        "id": "EAYIIhJIWlqm",
        "colab_type": "code",
        "colab": {}
      },
      "source": [
        ""
      ],
      "execution_count": 0,
      "outputs": []
    }
  ]
}