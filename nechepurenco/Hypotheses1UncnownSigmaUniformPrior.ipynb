{
  "nbformat": 4,
  "nbformat_minor": 0,
  "metadata": {
    "colab": {
      "name": "BayesProj.ipynb",
      "provenance": [],
      "collapsed_sections": []
    },
    "kernelspec": {
      "name": "python3",
      "display_name": "Python 3"
    }
  },
  "cells": [
    {
      "cell_type": "code",
      "metadata": {
        "id": "9d2N_jiwB-KI",
        "colab_type": "code",
        "colab": {}
      },
      "source": [
        "import numpy as np\n",
        "import matplotlib.pyplot as plt\n",
        "import scipy.stats as sps\n",
        "import seaborn as sns"
      ],
      "execution_count": 0,
      "outputs": []
    },
    {
      "cell_type": "markdown",
      "metadata": {
        "id": "CE4esRVanGGK",
        "colab_type": "text"
      },
      "source": [
        "https://drive.google.com/drive/folders/1J9ttwxBkPqeNuzaV6fipV5OwjqegXRwJ"
      ]
    },
    {
      "cell_type": "markdown",
      "metadata": {
        "id": "M-Pl6sv8nMFm",
        "colab_type": "text"
      },
      "source": [
        "https://docs.google.com/spreadsheets/d/12bfWcjWKDXxDLplgPzqWFU3U89CPn7Vd8ugst9hMfD4/edit#gid=0"
      ]
    },
    {
      "cell_type": "markdown",
      "metadata": {
        "id": "b2Z9y92nFzqp",
        "colab_type": "text"
      },
      "source": [
        "**Гипотезы 3, 4**\n",
        "\n",
        "Одна нормальная выборка, дисперсия неизвестна. Односторонняя и двусторонняя альтернативы."
      ]
    },
    {
      "cell_type": "markdown",
      "metadata": {
        "id": "7dmb8B2D8cwS",
        "colab_type": "text"
      },
      "source": [
        "Одна нормальная выборка, дисперсия неизвестна. Двусторонняя альтернатива."
      ]
    },
    {
      "cell_type": "markdown",
      "metadata": {
        "id": "nv4h9vXTQflh",
        "colab_type": "text"
      },
      "source": [
        "$$ X_1, .. X_n \\propto \\mathcal{N}(\\theta_1, \\theta_2^{-1}), \\theta = (\\theta_1, theta_2) $$.\n",
        "$$H_0: \\theta_1 = t_0, H_1: \\theta_1 \\neq t_0$$\n",
        "\n",
        "$q_2(t_2) \\propto 1 / t_2, \\theta \\sim \\mathcal{N}(a, \\sigma_{pr}^2 )$ при $H_1$, $\\sigma_{pr}^2 = k \\theta_2 ^ {-1}, k$ известно. Если ввести дополнительно \n",
        "переменные $v = n - 1$, $t = \\frac{t_1 - \\overline{x}}{s}\\sqrt{n-1}$\n",
        "Тогда можно вывести \n",
        "$$p_{t_1^0}(x) = \\int\\limits_0^\\infty p_{t_1^0, t_2} (x) q_2(t_2) dt_2 \\propto\n",
        "(1 + t^2/v)^{-\\frac{v+1}{2}}\n",
        "$$\n",
        "$$p_1(x) = \\int\\limits_0^{\\infty} p_{t_1^0, t_2} (x) q_1(t_1) q_2(t_2) dt_1 dt_2 \\propto\n",
        "\\frac{1}{\\sqrt{1 + nk}}(1 + \\frac{1}{v}\\frac{t^2}{1 + nk})^{-\\frac{v+1}{2}}\n",
        "$$"
      ]
    },
    {
      "cell_type": "markdown",
      "metadata": {
        "id": "fRmouVTSlfxE",
        "colab_type": "text"
      },
      "source": [
        "Будет интересно рассмотреть метод Линли. Для этого можно расписать совместную плотность:\n",
        "$p(t_1, t_2 | X) = t_2^{n/2 - 1}e^{-\\frac{t_2}{2}\\sum(x_i - t_1)^2}$.\n",
        "Ввиду того, что требуется оценивать распределение $t_1$, делаем сначала интегрирование по $t_2 \\in [0, +\\inf)$ \n",
        "$$ \\int\\limits_0^\\infty t_2^{n/2 - 1}e^{-\\frac{t_2}{2}\\sum(x_i - t_1)^2} d t_2 = \n",
        "[u = \\sum(x_i - t_1)^2, t = \\frac{t_2}{2}u, t_2 = \\frac{2t}{u},\n",
        "d t_2 = \\frac{2}{u} dt\n",
        "]\n",
        "= \\int\\limits_0^\\infty \\left(\\frac{2}{u}\\right)^{n/2} t^{n/2 - 1} e^{-t}dt = \n",
        "\\Gamma(n/2) 2^{n/2} \\frac{1}{\\left(\\sum(x_i - t_1)^2\\right)^{n/2}} =\n",
        " \\frac{\\Gamma(n/2) 2^{n/2}}{n^{n/2}\\left((\\overline{X} - t_1)^2 + S^2\\right)^{n/2}} \\propto \\frac{1}{\\left((\\overline{X} - t_1)^2 + S^2\\right)^{n/2}}\n",
        "$$\n",
        "Отсюда можем получить, что \n",
        "$P(t_1 \\in (\\overline{X} - \\delta, \\overline{X} + \\delta)) \\propto \n",
        "\\int\\limits_{-\\delta}^{\\delta}\\frac{1}{t_1^2 + S^2}dt_1$, и, очевидно, HDR для простой гипотезы имеет именно вид $(\\overline{X} - \\delta, \\overline{X} + \\delta)$. Подобные же интегралы используются и для сложных гипотез.\n"
      ]
    },
    {
      "cell_type": "markdown",
      "metadata": {
        "id": "8dk54tvRy46r",
        "colab_type": "text"
      },
      "source": [
        "Более того, исходя того, что равномерный приор от $t_1$ пропорционален константе, мы можем считать, что $\\forall t_1^0 \\pi_0 = \\pi_1 = 0.5$, и Байесовский фактор равен просто отношению апостериорных \"вероятностей\" гипотез $H_0$ и $H_1$"
      ]
    },
    {
      "cell_type": "code",
      "metadata": {
        "id": "grvGIcxQNXlP",
        "colab_type": "code",
        "colab": {}
      },
      "source": [
        "class Hypotheses1UncnownSigmaUniformPrior:\n",
        "# Нужно объединить с другим классом, для случая \n",
        "  def __init__(self):\n",
        "    pass\n",
        "\n",
        "  def test(self, sample, test_params):\n",
        "    \"\"\"\n",
        "    :param sample: - выборка из нормального распределения с неизвестной\n",
        "     дисперсией\n",
        "    :param  test_params - словарь с параметрами гипотезы\n",
        "    обязательно содержит:\n",
        "    \"type_of_test\" - одно из \"atom\", \"modification\", \"lindley\", \"atom\",\n",
        "    \"leq\", \"geq\" - тип гипотезы \n",
        "    \"t0\": собственно, точка, относительно которой проверяется гипотеза\n",
        "    для метода с атомом: pi_0: - априорная вероятность, k: относится к дисперсии \n",
        "    априорного распределения, см. выкладки\n",
        "    для метода модификации гипотезы: \"epsilon\" - радиус \"окрестности\" t0\n",
        "    для метода Линдли - \"conf\" - уроветь зачимости\n",
        "    возвращает метод также словарь, в зависимости от гипотезы может \n",
        "    содержать \"HDR\" в виде концов отрезка, \"rejected\" - для метода Линдли,\n",
        "    \"p0\", \"p1\", \"B\" - апостериорные вероятности и байесовский фактор,\n",
        "    \"post_params\" - ппараметры постериорного распределения, см. выкладки и примеры\n",
        "    применения\n",
        "    \"\"\"\n",
        "    t0 = test_params[\"t0\"]\n",
        "    n = len(sample)\n",
        "\n",
        "    test_type = test_params[\"type_of_test\"]\n",
        "\n",
        "    assert test_type in [\"modification\", \"lindley\", \"atom\",\n",
        "                                  \"leq\", \"geq\"], \"unknown test type\"\n",
        "\n",
        "    \n",
        "\n",
        "    if test_type == \"atom\":\n",
        "      try:\n",
        "        self.pi_0 = test_params[\"pi_0\"]\n",
        "        self.pi_1 = 1 - self.pi_0\n",
        "        self.k = test_params[\"k\"]\n",
        "      except Exception:\n",
        "        print(\"not enough params\")\n",
        "\n",
        "\n",
        "      v = n - 1\n",
        "      t = (t0 - np.mean(sample)) * np.sqrt(n - 1) / (np.std(sample) ** 2) \n",
        "\n",
        "      self.p0 = (1 + t ** 2 / v) ** (-(v + 1) / 2) * self.pi_0 # почему не - n  / 2 ?\n",
        "      self.p1 = 1 / np.sqrt(1 + n * self.k) * (1 + t ** 2 / (1 + n * self.k) / v) ** (-(v + 1) / 2) * self.pi_1\n",
        "      normalizator = self.p0 + self.p1\n",
        "      self.p0 /= normalizator\n",
        "      self.p1 /= normalizator\n",
        "      self.B = self.p0 / self.p1\n",
        "\n",
        "      self.t0 = t0\n",
        "      self.n = n\n",
        "      return {\n",
        "          \"p0\":self.p0,\n",
        "          \"p1\":self.p1,\n",
        "          \"B\": self.B,\n",
        "\n",
        "      }\n",
        "\n",
        "    m = np.mean(sample)\n",
        "    S_sq = np.mean((sample - m) ** 2) \n",
        "    poster_distr = lambda x: 1 / ((m - x)**2 + S_sq) ** (n/2)\n",
        "    \n",
        "    big_num = 10**4\n",
        "    step = 1000\n",
        "    big_space = np.linspace(m-big_num, m+big_num, 2 * big_num * step)\n",
        "    divisor = np.sum(poster_distr(big_space)) / step\n",
        "    poster_distr = lambda x: 1 / ((m - x)**2 + S_sq) ** (n/2) / divisor\n",
        "    pdf_with_step = poster_distr(big_space) / step\n",
        "    cdf = np.cumsum(pdf_with_step)\n",
        "    if test_type == \"lindley\":\n",
        "        try:\n",
        "          conf = 1 - test_params[\"conf\"]\n",
        "        except Exception:\n",
        "          print(\"not enough params\")\n",
        "        l, r = big_space[np.argmin((cdf - (1 - conf)/2)**2)], big_space[np.argmin((cdf - (1 + conf)/2)**2)]\n",
        "        reject = False\n",
        "        if t0 < l or t0 > r:\n",
        "          reject = True\n",
        "        return {\n",
        "            \"reject\":reject,\n",
        "            \"HDR\": (l, r),\n",
        "            \"post_params\": {\n",
        "                \"n\": n, \n",
        "                \"mean\": m,\n",
        "                \"S_sq\": S_sq\n",
        "            } \n",
        "        }\n",
        "\n",
        "    if test_type == \"modification\":\n",
        "          try:\n",
        "            epsilon = test_params[\"epsilon\"]\n",
        "          except Exception:\n",
        "            print(\"not enough params\")\n",
        "          p0 = cdf[np.argmin((t0 + epsilon)**2)] - cdf[np.argmin((t0 - epsilon)**2)]\n",
        "\n",
        "          # под HDR в данном случае подразумеваем такую симметричную окрестность  \n",
        "          # среднего, что t0 в неё попадает \"а границе\"\n",
        "\n",
        "          #Возможно, есть смысл сделать по другому?\n",
        "          delta = np.abs(m - t0)\n",
        "          l, r = (m- delta, m + delta)\n",
        "          return {\n",
        "              \"p0\": p0,\n",
        "              \"p1\": 1 - p0,\n",
        "              \"HDR\": (l, r),\n",
        "              \"post_params\": {\n",
        "                  \"n\": n, \n",
        "                  \"mean\": m,\n",
        "                  \"S_sq\": S_sq\n",
        "              } \n",
        "          }\n",
        "    \n",
        "    if test_type in [\"leq\", \"geq\"]:\n",
        "      p0 = cdf[np.argmin((t0 - big_space)**2)]\n",
        "      p1 = 1 - p0\n",
        "      if test_type == \"geq\":\n",
        "        p0, p1 = p1, p0\n",
        "      B = p0 / p1\n",
        "      # При чем тут HDR, не очень понял\n",
        "      return {\n",
        "          \"p0\": p0,\n",
        "          \"p1\": p1, \n",
        "          \"B\": B\n",
        "      }"
      ],
      "execution_count": 0,
      "outputs": []
    },
    {
      "cell_type": "markdown",
      "metadata": {
        "id": "XichQ2utAOTm",
        "colab_type": "text"
      },
      "source": [
        "##Примеры применения.\n",
        "Один класс может тестировать различные типы гипотез, в том числе и \"сложная против сложной\""
      ]
    },
    {
      "cell_type": "code",
      "metadata": {
        "id": "t5Tw81RK_2Zr",
        "colab_type": "code",
        "colab": {}
      },
      "source": [
        "hypo = Hypotheses1UncnownSigmaUniformPrior()"
      ],
      "execution_count": 0,
      "outputs": []
    },
    {
      "cell_type": "code",
      "metadata": {
        "id": "4lat8GLYEdLh",
        "colab_type": "code",
        "colab": {}
      },
      "source": [
        "mean_real = 0\n",
        "std_real = 1\n",
        "n = 1000\n",
        "sample = sps.norm(mean_real, std_real).rvs(n)\n",
        "t0 = 0.001"
      ],
      "execution_count": 0,
      "outputs": []
    },
    {
      "cell_type": "markdown",
      "metadata": {
        "id": "BusPr8AwAN1A",
        "colab_type": "text"
      },
      "source": [
        ""
      ]
    },
    {
      "cell_type": "code",
      "metadata": {
        "id": "fFeRr3S-8bsi",
        "colab_type": "code",
        "outputId": "68151115-3f16-4bef-cd79-b95cfd914a1e",
        "colab": {
          "base_uri": "https://localhost:8080/",
          "height": 35
        }
      },
      "source": [
        "test_type_1 = {\n",
        "    \"type_of_test\": \"atom\",\n",
        "    \"t0\": 0,\n",
        "    \"pi_0\": 0.1,\n",
        "    \"k\": 1,\n",
        "}\n",
        "hypo.test(sample, test_type_1)"
      ],
      "execution_count": 50,
      "outputs": [
        {
          "output_type": "execute_result",
          "data": {
            "text/plain": [
              "{'B': 3.5077733542064573, 'p0': 0.778160985164251, 'p1': 0.22183901483574892}"
            ]
          },
          "metadata": {
            "tags": []
          },
          "execution_count": 50
        }
      ]
    },
    {
      "cell_type": "code",
      "metadata": {
        "id": "BZV3nYAsH4uI",
        "colab_type": "code",
        "colab": {
          "base_uri": "https://localhost:8080/",
          "height": 163
        },
        "outputId": "ef93df93-4f8b-438e-9717-73e9d402c88a"
      },
      "source": [
        "test_type_2 = {\n",
        "    \"type_of_test\": \"modification\",\n",
        "    \"t0\": 0,\n",
        "    \"epsilon\": 0.5,\n",
        "}\n",
        "hypo.test(sample, test_type_2)"
      ],
      "execution_count": 51,
      "outputs": [
        {
          "output_type": "stream",
          "text": [
            "/usr/local/lib/python3.6/dist-packages/ipykernel_launcher.py:59: RuntimeWarning: overflow encountered in power\n",
            "/usr/local/lib/python3.6/dist-packages/ipykernel_launcher.py:65: RuntimeWarning: overflow encountered in power\n"
          ],
          "name": "stderr"
        },
        {
          "output_type": "execute_result",
          "data": {
            "text/plain": [
              "{'HDR': (-0.0043942463462630955, 0.0),\n",
              " 'p0': 0.0,\n",
              " 'p1': 1.0,\n",
              " 'post_params': {'S_sq': 1.0537974971047268,\n",
              "  'mean': -0.0021971231731315478,\n",
              "  'n': 1000}}"
            ]
          },
          "metadata": {
            "tags": []
          },
          "execution_count": 51
        }
      ]
    },
    {
      "cell_type": "code",
      "metadata": {
        "id": "T0cZ_tJIEdOc",
        "colab_type": "code",
        "colab": {
          "base_uri": "https://localhost:8080/",
          "height": 145
        },
        "outputId": "34ecacb9-3eda-4b34-c736-2045214190ff"
      },
      "source": [
        "test_type_3 = {\n",
        "    \"type_of_test\": \"lindley\",\n",
        "    \"t0\": 0,\n",
        "    \"conf\": 0.05\n",
        "}\n",
        "hypo.test(sample, test_type_3)"
      ],
      "execution_count": 52,
      "outputs": [
        {
          "output_type": "stream",
          "text": [
            "/usr/local/lib/python3.6/dist-packages/ipykernel_launcher.py:59: RuntimeWarning: overflow encountered in power\n",
            "/usr/local/lib/python3.6/dist-packages/ipykernel_launcher.py:65: RuntimeWarning: overflow encountered in power\n"
          ],
          "name": "stderr"
        },
        {
          "output_type": "execute_result",
          "data": {
            "text/plain": [
              "{'HDR': (-0.06669712639813952, 0.061302880001676385),\n",
              " 'post_params': {'S_sq': 1.0537974971047268,\n",
              "  'mean': -0.0021971231731315478,\n",
              "  'n': 1000},\n",
              " 'reject': False}"
            ]
          },
          "metadata": {
            "tags": []
          },
          "execution_count": 52
        }
      ]
    },
    {
      "cell_type": "code",
      "metadata": {
        "id": "dPu-gI21GhRy",
        "colab_type": "code",
        "colab": {
          "base_uri": "https://localhost:8080/",
          "height": 72
        },
        "outputId": "e9a712eb-b020-4b3c-a13c-0d0a3eeec299"
      },
      "source": [
        "test_type_4 = {\n",
        "    \"type_of_test\": \"leq\",\n",
        "    \"t0\": 0\n",
        "}\n",
        "hypo.test(sample, test_type_4)"
      ],
      "execution_count": 53,
      "outputs": [
        {
          "output_type": "stream",
          "text": [
            "/usr/local/lib/python3.6/dist-packages/ipykernel_launcher.py:59: RuntimeWarning: overflow encountered in power\n",
            "/usr/local/lib/python3.6/dist-packages/ipykernel_launcher.py:65: RuntimeWarning: overflow encountered in power\n"
          ],
          "name": "stderr"
        },
        {
          "output_type": "execute_result",
          "data": {
            "text/plain": [
              "{'B': 1.1588465886427948, 'p0': 0.5367896888733203, 'p1': 0.46321031112667965}"
            ]
          },
          "metadata": {
            "tags": []
          },
          "execution_count": 53
        }
      ]
    },
    {
      "cell_type": "code",
      "metadata": {
        "id": "XAaBJ_PuEdI7",
        "colab_type": "code",
        "colab": {
          "base_uri": "https://localhost:8080/",
          "height": 72
        },
        "outputId": "b646c10a-305a-4275-fe82-2af33230b655"
      },
      "source": [
        "test_type_5 = {\n",
        "    \"type_of_test\": \"geq\", \n",
        "    \"t0\": 0\n",
        "}\n",
        "hypo.test(sample, test_type_5)"
      ],
      "execution_count": 54,
      "outputs": [
        {
          "output_type": "stream",
          "text": [
            "/usr/local/lib/python3.6/dist-packages/ipykernel_launcher.py:59: RuntimeWarning: overflow encountered in power\n",
            "/usr/local/lib/python3.6/dist-packages/ipykernel_launcher.py:65: RuntimeWarning: overflow encountered in power\n"
          ],
          "name": "stderr"
        },
        {
          "output_type": "execute_result",
          "data": {
            "text/plain": [
              "{'B': 0.8629269912000768, 'p0': 0.46321031112667965, 'p1': 0.5367896888733203}"
            ]
          },
          "metadata": {
            "tags": []
          },
          "execution_count": 54
        }
      ]
    },
    {
      "cell_type": "markdown",
      "metadata": {
        "id": "hRxRP1vAacfT",
        "colab_type": "text"
      },
      "source": [
        "##Тестируем библиотеку"
      ]
    },
    {
      "cell_type": "markdown",
      "metadata": {
        "id": "HjrQpdtEciNF",
        "colab_type": "text"
      },
      "source": [
        "Сложная гипотеза против сложной,  H_0 верна"
      ]
    },
    {
      "cell_type": "code",
      "metadata": {
        "id": "SdN8DtUaLyvh",
        "colab_type": "code",
        "colab": {
          "base_uri": "https://localhost:8080/",
          "height": 163
        },
        "outputId": "d2bfebda-3699-44c1-980a-a27d3a20ef03"
      },
      "source": [
        "mean_real = -0.05\n",
        "std_real = 1\n",
        "\n",
        "for n in [10, 100, 1000]:\n",
        "  print(\"n: \", n)\n",
        "  sample = sps.norm(mean_real, std_real).rvs(n)\n",
        "  t0 = 0\n",
        "  print(hypo.test(sample, test_type_4))"
      ],
      "execution_count": 56,
      "outputs": [
        {
          "output_type": "stream",
          "text": [
            "n:  10\n",
            "{'p0': 0.5197491180324902, 'p1': 0.48025088196750976, 'B': 1.0822450047424435}\n",
            "n:  100\n"
          ],
          "name": "stdout"
        },
        {
          "output_type": "stream",
          "text": [
            "/usr/local/lib/python3.6/dist-packages/ipykernel_launcher.py:59: RuntimeWarning: overflow encountered in power\n",
            "/usr/local/lib/python3.6/dist-packages/ipykernel_launcher.py:65: RuntimeWarning: overflow encountered in power\n"
          ],
          "name": "stderr"
        },
        {
          "output_type": "stream",
          "text": [
            "{'p0': 0.43899861637442805, 'p1': 0.561001383625572, 'B': 0.7825267979506946}\n",
            "n:  1000\n",
            "{'p0': 0.7502981621896091, 'p1': 0.2497018378103909, 'B': 3.0047762914718392}\n"
          ],
          "name": "stdout"
        }
      ]
    },
    {
      "cell_type": "markdown",
      "metadata": {
        "id": "co8-OXxsdbyG",
        "colab_type": "text"
      },
      "source": [
        "Видим рост байесовского фактора. То же, только верно H_1:"
      ]
    },
    {
      "cell_type": "code",
      "metadata": {
        "id": "ivurwCRudSj1",
        "colab_type": "code",
        "colab": {
          "base_uri": "https://localhost:8080/",
          "height": 163
        },
        "outputId": "39832e4e-9809-43d8-ba35-a5dd19ce697e"
      },
      "source": [
        "mean_real = 0.05\n",
        "std_real = 1\n",
        "\n",
        "for n in [10, 100, 1000]:\n",
        "  print(\"n: \", n)\n",
        "  sample = sps.norm(mean_real, std_real).rvs(n)\n",
        "  t0 = 0\n",
        "  print(hypo.test(sample, test_type_4))"
      ],
      "execution_count": 58,
      "outputs": [
        {
          "output_type": "stream",
          "text": [
            "n:  10\n",
            "{'p0': 0.2980242555561742, 'p1': 0.7019757444438258, 'B': 0.4245506456812098}\n",
            "n:  100\n"
          ],
          "name": "stdout"
        },
        {
          "output_type": "stream",
          "text": [
            "/usr/local/lib/python3.6/dist-packages/ipykernel_launcher.py:59: RuntimeWarning: overflow encountered in power\n",
            "/usr/local/lib/python3.6/dist-packages/ipykernel_launcher.py:65: RuntimeWarning: overflow encountered in power\n"
          ],
          "name": "stderr"
        },
        {
          "output_type": "stream",
          "text": [
            "{'p0': 0.2463582629839594, 'p1': 0.7536417370160406, 'B': 0.32689041872785224}\n",
            "n:  1000\n",
            "{'p0': 0.00834416964805232, 'p1': 0.9916558303519477, 'B': 0.008414380667827969}\n"
          ],
          "name": "stdout"
        }
      ]
    },
    {
      "cell_type": "markdown",
      "metadata": {
        "id": "XjewMzecgcJf",
        "colab_type": "text"
      },
      "source": [
        "Можно еще посмотреть, скажем, на метод с атомом:"
      ]
    },
    {
      "cell_type": "code",
      "metadata": {
        "id": "kIvHiClleNh4",
        "colab_type": "code",
        "colab": {
          "base_uri": "https://localhost:8080/",
          "height": 126
        },
        "outputId": "25df0cd3-653a-4520-af7b-783880fb122d"
      },
      "source": [
        "mean_real = -0.5\n",
        "std_real = 1\n",
        "\n",
        "for n in [10, 100, 1000]:\n",
        "  print(\"n: \", n)\n",
        "  sample = sps.norm(mean_real, std_real).rvs(n)\n",
        "  t0 = 0\n",
        "  print(hypo.test(sample, test_type_1))"
      ],
      "execution_count": 61,
      "outputs": [
        {
          "output_type": "stream",
          "text": [
            "n:  10\n",
            "{'p0': 0.000820581824054234, 'p1': 0.9991794181759457, 'B': 0.0008212557315804694}\n",
            "n:  100\n",
            "{'p0': 9.604507346772854e-07, 'p1': 0.9999990395492654, 'B': 9.604516571437851e-07}\n",
            "n:  1000\n",
            "{'p0': 1.9296133714235655e-57, 'p1': 1.0, 'B': 1.9296133714235655e-57}\n"
          ],
          "name": "stdout"
        }
      ]
    },
    {
      "cell_type": "code",
      "metadata": {
        "id": "cfziqGDUhHK6",
        "colab_type": "code",
        "colab": {
          "base_uri": "https://localhost:8080/",
          "height": 126
        },
        "outputId": "f0fa759d-e154-490e-d102-e5338887378b"
      },
      "source": [
        "mean_real = 0.\n",
        "std_real = 1\n",
        "\n",
        "for n in [10, 100, 1000]:\n",
        "  print(\"n: \", n)\n",
        "  sample = sps.norm(mean_real, std_real).rvs(n)\n",
        "  t0 = 0\n",
        "  print(hypo.test(sample, test_type_1))"
      ],
      "execution_count": 62,
      "outputs": [
        {
          "output_type": "stream",
          "text": [
            "n:  10\n",
            "{'p0': 0.18165155336536692, 'p1': 0.8183484466346331, 'B': 0.22197335879647442}\n",
            "n:  100\n",
            "{'p0': 0.5130679182795874, 'p1': 0.48693208172041264, 'B': 1.0536745011066686}\n",
            "n:  1000\n",
            "{'p0': 0.7496647041438538, 'p1': 0.25033529585614633, 'B': 2.9946424517565595}\n"
          ],
          "name": "stdout"
        }
      ]
    },
    {
      "cell_type": "markdown",
      "metadata": {
        "id": "2TB0f6PphVcT",
        "colab_type": "text"
      },
      "source": [
        "Работает корректно, смотрим на метод Линдли:"
      ]
    },
    {
      "cell_type": "code",
      "metadata": {
        "id": "w_-VbhPyhSz0",
        "colab_type": "code",
        "colab": {
          "base_uri": "https://localhost:8080/",
          "height": 163
        },
        "outputId": "10f10e4e-2219-4017-f988-a53d0bbe8790"
      },
      "source": [
        "mean_real = -0.5\n",
        "std_real = 1\n",
        "\n",
        "for n in [10, 100, 1000]:\n",
        "  print(\"n: \", n)\n",
        "  sample = sps.norm(mean_real, std_real).rvs(n)\n",
        "  t0 = 0\n",
        "  print(hypo.test(sample, test_type_3))"
      ],
      "execution_count": 63,
      "outputs": [
        {
          "output_type": "stream",
          "text": [
            "n:  10\n",
            "{'reject': False, 'HDR': (-1.9706402765732491, 0.4513598445264506), 'post_params': {'n': 10, 'mean': -0.7591402159977603, 'S_sq': 2.5782105612080892}}\n",
            "n:  100\n"
          ],
          "name": "stdout"
        },
        {
          "output_type": "stream",
          "text": [
            "/usr/local/lib/python3.6/dist-packages/ipykernel_launcher.py:59: RuntimeWarning: overflow encountered in power\n",
            "/usr/local/lib/python3.6/dist-packages/ipykernel_launcher.py:65: RuntimeWarning: overflow encountered in power\n"
          ],
          "name": "stderr"
        },
        {
          "output_type": "stream",
          "text": [
            "{'reject': True, 'HDR': (-0.7450553240305453, -0.3630553049297305), 'post_params': {'n': 100, 'mean': -0.553555314453753, 'S_sq': 0.9196614798021693}}\n",
            "n:  1000\n",
            "{'reject': True, 'HDR': (-0.5082471373752924, -0.3842471311763802), 'post_params': {'n': 1000, 'mean': -0.4457471342497093, 'S_sq': 1.0071796552288808}}\n"
          ],
          "name": "stdout"
        }
      ]
    },
    {
      "cell_type": "code",
      "metadata": {
        "id": "8ybIL2iAiC9T",
        "colab_type": "code",
        "colab": {
          "base_uri": "https://localhost:8080/",
          "height": 163
        },
        "outputId": "688a30cf-e639-4c3b-8f6a-ca3aab262fea"
      },
      "source": [
        "mean_real = 0\n",
        "std_real = 1\n",
        "\n",
        "for n in [10, 100, 1000]:\n",
        "  print(\"n: \", n)\n",
        "  sample = sps.norm(mean_real, std_real).rvs(n)\n",
        "  t0 = 0\n",
        "  print(hypo.test(sample, test_type_3))"
      ],
      "execution_count": 64,
      "outputs": [
        {
          "output_type": "stream",
          "text": [
            "n:  10\n",
            "{'reject': False, 'HDR': (-0.964078895676721, 0.4379211744235363), 'post_params': {'n': 10, 'mean': -0.2625788606002151, 'S_sq': 0.8651859203731108}}\n",
            "n:  100\n"
          ],
          "name": "stdout"
        },
        {
          "output_type": "stream",
          "text": [
            "/usr/local/lib/python3.6/dist-packages/ipykernel_launcher.py:59: RuntimeWarning: overflow encountered in power\n",
            "/usr/local/lib/python3.6/dist-packages/ipykernel_launcher.py:65: RuntimeWarning: overflow encountered in power\n"
          ],
          "name": "stderr"
        },
        {
          "output_type": "stream",
          "text": [
            "{'reject': False, 'HDR': (-0.2589428949067951, 0.17905712699212017), 'post_params': {'n': 100, 'mean': -0.03944288393164883, 'S_sq': 1.2029054302180953}}\n",
            "n:  1000\n",
            "{'reject': False, 'HDR': (-0.07149901247612434, 0.0465009934232512), 'post_params': {'n': 1000, 'mean': -0.011999009500150731, 'S_sq': 0.9094667069305039}}\n"
          ],
          "name": "stdout"
        }
      ]
    },
    {
      "cell_type": "markdown",
      "metadata": {
        "id": "aXVGLCkpiM54",
        "colab_type": "text"
      },
      "source": [
        "Наблюдаем за сужением области HDR."
      ]
    },
    {
      "cell_type": "code",
      "metadata": {
        "id": "sEuZggSxiIIZ",
        "colab_type": "code",
        "colab": {}
      },
      "source": [
        ""
      ],
      "execution_count": 0,
      "outputs": []
    }
  ]
}