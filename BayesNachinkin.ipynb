{
  "nbformat": 4,
  "nbformat_minor": 0,
  "metadata": {
    "colab": {
      "name": "BayesNachinkin.ipynb",
      "provenance": [],
      "collapsed_sections": []
    },
    "kernelspec": {
      "name": "python3",
      "display_name": "Python 3"
    }
  },
  "cells": [
    {
      "cell_type": "code",
      "metadata": {
        "id": "BQiXxwvyq4HA",
        "colab_type": "code",
        "colab": {}
      },
      "source": [
        "import numpy as np\n",
        "import matplotlib.pyplot as plt\n",
        "import scipy.stats as sps"
      ],
      "execution_count": 0,
      "outputs": []
    },
    {
      "cell_type": "markdown",
      "metadata": {
        "id": "yGYEBSGHq8Zb",
        "colab_type": "text"
      },
      "source": [
        "**Гипотеза 6.** Две независимые нормальные выборки, дисперсии равны, но не известны, т.е. $\\sigma_x=\\sigma_y$\n",
        "\n",
        "$$x_1, x_2, ..., x_n \\ \\sim \\ \\mathcal{N}(\\theta_x, \\sigma^2)$$\n",
        "$$y_1, y_2, ..., y_m \\ \\sim \\ \\mathcal{N}(\\theta_y, \\sigma^2)$$\n",
        "$$\\delta = \\theta_x - \\theta_y$$\n",
        "\n",
        "Возьмем равномерный априор.\n",
        "\n",
        "\n",
        "$$\\sqrt{\\frac{n+m-2}{\\frac{1}{n} + \\frac{1}{n}}}\\frac{\\delta - (\\overline{X} - \\overline{Y})}{\\sqrt{nS_x^2 + mS_y^2}} \\ |\\  (X, Y) \\sim T_{n+m-2}$$\n"
      ]
    },
    {
      "cell_type": "code",
      "metadata": {
        "id": "r0Z3gMUc3eZy",
        "colab_type": "code",
        "colab": {}
      },
      "source": [
        "class Hypotheses2NormEqualSigmaUniformPrior():\n",
        "  def __init__(self, alternative=\"<>\"):\n",
        "    assert alternative in ('<>', '<', '>')\n",
        "\n",
        "    self.alternative=alternative\n",
        "\n",
        "  def test(self, X, Y, method='Lindley', level=0.05, *args, **kwargs):\n",
        "    assert method in ('modify', 'Lindley', 'atom')\n",
        "    assert 0 < level < 1\n",
        "\n",
        "    self.level=level\n",
        "\n",
        "\n",
        "    n = len(X)\n",
        "    m = len(Y)\n",
        "    self.df = n+m-2\n",
        "    self.scale = np.sqrt(np.sum(X**2) + np.sum(Y**2)) / np.sqrt((n+m-2) / (1./n + 1./m))\n",
        "    self.loc = X.mean() - Y.mean()\n",
        "    posterior = sps.t(df=self.df, loc=self.loc, scale=self.scale)\n",
        "\n",
        "    if method=='Lindley' or method=='modify':\n",
        "      HDR = (posterior.ppf(level/2.),\n",
        "              posterior.ppf(1 - level/2.))\n",
        "      \n",
        "    if method in ('modify'):\n",
        "      if not 'eps' in args:\n",
        "        eps = 1e-3\n",
        "      if self.alternative== '<>':\n",
        "        p0 = posterior.cdf(eps) - posterior.cdf(-eps)\n",
        "        p1 = 2*posterior.cdf(-eps)\n",
        "      if self.alternative== '<':\n",
        "         p0 =  posterior.cdf(0) - posterior.cdf(-eps)\n",
        "         p1 = posterior.cdf(-eps)\n",
        "      if self.alternative== '>':\n",
        "        p0 =  posterior.cdf(eps) - posterior.cdf(0)\n",
        "        p1 = posterior.cdf(-eps)\n",
        "      p0 /= p0 + p1\n",
        "      p1 /= p0 + p1\n",
        "\n",
        "\n",
        "    if method == 'Lindley':\n",
        "      return {\"posterior_df\":self.df, \n",
        "              \"posterior_loc\":self.loc, \n",
        "              \"posterior_scale\":self.scale, \"HDR\":HDR}\n",
        "\n",
        "    if method == 'modify':\n",
        "      return {\"posterior_df\":self.df, \"posterior_loc\":self.loc, \n",
        "              \"posterior_scale\":self.scale, \"HDR\":HDR, \"p0\":p0, \"p1\" : p1}"
      ],
      "execution_count": 0,
      "outputs": []
    },
    {
      "cell_type": "code",
      "metadata": {
        "id": "ZO_oSnPsGiST",
        "colab_type": "code",
        "colab": {
          "base_uri": "https://localhost:8080/",
          "height": 84
        },
        "outputId": "cc79c450-fa12-4b8c-86d4-d7584f34debb"
      },
      "source": [
        "# тестирование\n",
        "\n",
        "X = sps.norm(1, 5).rvs(10)\n",
        "Y = sps.norm(1, 5).rvs(20)\n",
        "\n",
        "stat_test = Hypotheses2NormEqualSigmaUniformPrior()\n",
        "\n",
        "stat_test.test(X, Y)"
      ],
      "execution_count": 4,
      "outputs": [
        {
          "output_type": "execute_result",
          "data": {
            "text/plain": [
              "{'HDR': (-2.8678050663255195, 5.937863121601016),\n",
              " 'posterior_df': 28,\n",
              " 'posterior_loc': 1.5350290276377483,\n",
              " 'posterior_scale': 2.1493940360433332}"
            ]
          },
          "metadata": {
            "tags": []
          },
          "execution_count": 4
        }
      ]
    },
    {
      "cell_type": "code",
      "metadata": {
        "id": "qQB8zBChNd4D",
        "colab_type": "code",
        "colab": {
          "base_uri": "https://localhost:8080/",
          "height": 118
        },
        "outputId": "21d2b6ce-6f36-4bc8-d0cc-71a9ac68c169"
      },
      "source": [
        "stat_test.test(X, Y, method='modify')"
      ],
      "execution_count": 5,
      "outputs": [
        {
          "output_type": "execute_result",
          "data": {
            "text/plain": [
              "{'HDR': (-2.8678050663255195, 5.937863121601016),\n",
              " 'p0': 0.0005887005625250925,\n",
              " 'p1': 0.9987769557486965,\n",
              " 'posterior_df': 28,\n",
              " 'posterior_loc': 1.5350290276377483,\n",
              " 'posterior_scale': 2.1493940360433332}"
            ]
          },
          "metadata": {
            "tags": []
          },
          "execution_count": 5
        }
      ]
    },
    {
      "cell_type": "code",
      "metadata": {
        "id": "Lk_w64HNMeV2",
        "colab_type": "code",
        "colab": {
          "base_uri": "https://localhost:8080/",
          "height": 134
        },
        "outputId": "134a8556-7c5d-426b-d656-1a7445410435"
      },
      "source": [
        "X = sps.norm(1, 5).rvs(200)\n",
        "Y = sps.norm(3, 5).rvs(200)\n",
        "\n",
        "stat_test = Hypotheses2NormEqualSigmaUniformPrior()\n",
        "\n",
        "print(stat_test.test(X, Y, method='Lindley'))\n",
        "\n",
        "stat_test.test(X, Y, method='modify', eps=1e-5)"
      ],
      "execution_count": 6,
      "outputs": [
        {
          "output_type": "stream",
          "text": [
            "{'posterior_df': 398, 'posterior_loc': -2.3679625973302203, 'posterior_scale': 0.5476934922640309, 'HDR': (-3.4446964143384062, -1.2912287803220346)}\n"
          ],
          "name": "stdout"
        },
        {
          "output_type": "execute_result",
          "data": {
            "text/plain": [
              "{'HDR': (-3.4446964143384062, -1.2912287803220346),\n",
              " 'p0': 7.682242929407018e-08,\n",
              " 'p1': 0.9999999615884106,\n",
              " 'posterior_df': 398,\n",
              " 'posterior_loc': -2.3679625973302203,\n",
              " 'posterior_scale': 0.5476934922640309}"
            ]
          },
          "metadata": {
            "tags": []
          },
          "execution_count": 6
        }
      ]
    },
    {
      "cell_type": "code",
      "metadata": {
        "id": "wqHb4a70ND5B",
        "colab_type": "code",
        "colab": {
          "base_uri": "https://localhost:8080/",
          "height": 118
        },
        "outputId": "0d40534d-e8b0-4727-c1d9-36980e6b4cd3"
      },
      "source": [
        "stat_test = Hypotheses2NormEqualSigmaUniformPrior(alternative=\"<\")\n",
        "\n",
        "stat_test.test(X, Y, method='modify', eps=1e-5)"
      ],
      "execution_count": 11,
      "outputs": [
        {
          "output_type": "execute_result",
          "data": {
            "text/plain": [
              "{'HDR': (-3.4446964143384062, -1.2912287803220346),\n",
              " 'p0': 7.711277295506089e-08,\n",
              " 'p1': 0.9999999228864779,\n",
              " 'posterior_df': 398,\n",
              " 'posterior_loc': -2.3679625973302203,\n",
              " 'posterior_scale': 0.5476934922640309}"
            ]
          },
          "metadata": {
            "tags": []
          },
          "execution_count": 11
        }
      ]
    },
    {
      "cell_type": "code",
      "metadata": {
        "id": "txqLRIVkVgL4",
        "colab_type": "code",
        "colab": {}
      },
      "source": [
        ""
      ],
      "execution_count": 0,
      "outputs": []
    }
  ]
}