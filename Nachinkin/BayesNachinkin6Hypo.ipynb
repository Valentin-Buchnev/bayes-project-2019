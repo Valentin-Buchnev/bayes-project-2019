{
  "nbformat": 4,
  "nbformat_minor": 0,
  "metadata": {
    "colab": {
      "name": "BayesNachinkin6Hypo.ipynb",
      "provenance": [],
      "collapsed_sections": []
    },
    "kernelspec": {
      "name": "python3",
      "display_name": "Python 3"
    }
  },
  "cells": [
    {
      "cell_type": "code",
      "metadata": {
        "id": "BQiXxwvyq4HA",
        "colab_type": "code",
        "colab": {}
      },
      "source": [
        "import numpy as np\n",
        "import matplotlib.pyplot as plt\n",
        "import scipy.stats as sps"
      ],
      "execution_count": 0,
      "outputs": []
    },
    {
      "cell_type": "markdown",
      "metadata": {
        "id": "yGYEBSGHq8Zb",
        "colab_type": "text"
      },
      "source": [
        "**Гипотеза 6.** Две независимые нормальные выборки, дисперсии равны, но не известны, т.е. $\\sigma_x=\\sigma_y$. Простая гипотеза против сложной.\n",
        "\n",
        "Методы проверки: Линдли, модификация $H_0$, априор с атомом.\n",
        "\n",
        "Проверяются двусторонние, односторонние альтернативы.\n",
        "\n",
        "$$x_1, x_2, ..., x_n \\ \\sim \\ \\mathcal{N}(\\theta_x, \\sigma^2)$$\n",
        "$$y_1, y_2, ..., y_m \\ \\sim \\ \\mathcal{N}(\\theta_y, \\sigma^2)$$\n",
        "$$\\delta = \\theta_x - \\theta_y$$\n",
        "\n",
        "$$H_0: \\delta=0 \\  vs \\  H_1:\\  \\delta\\{\\neq, <, >\\}0$$\n",
        "\n",
        "Будем использовать сопряженный априор\n",
        "\n",
        "$$\\theta_x \\sim \\mathcal{N}(\\mu_1, \\sigma_1^2)$$\n",
        "$$\\theta_y \\sim \\mathcal{N}(\\mu_2, \\sigma_2^2)$$\n",
        "$$prior \\ : \\ \\delta = \\theta_x - \\theta_y \\sim \\mathcal{N}(\\mu_1 - \\mu_2, \\sigma_1^2+\\sigma_2^2)$$\n",
        "\n",
        "Также можем выбирать $\\kappa$ - априорное число степеней свободы, и $med - $ априорную медиану для распределения на неизвестный параметр $\\sigma$.\n",
        "\n",
        "Пусть $m_1 = \\frac{\\sum x_i + \\frac{\\mu_1}{\\sigma_1^2}}{N + \\frac{1}{\\sigma_1^2}}$, $m_2 = \\frac{\\sum y_i + \\frac{\\mu_2}{\\sigma_2^2}}{M + \\frac{1}{\\sigma_2^2}}$, где $N, M$ - размеры выборок\n",
        "\n",
        "$S_x^2, S_y^2$ - выборочные дисперсии (смещенные)\n",
        "\n",
        "Пусть $\\chi_{1, 0.5}^2 ( \\approx 0.52)$ - 0.5 квантиль распределения хи-квадрат со степенью свободы 1.\n",
        "\n",
        "$$posterior \\ : \\ \\sqrt{\\frac{N+M+\\kappa}{\\frac{1}{N + \\frac{1}{\\sigma_1^2}} + \\frac{1}{M + \\frac{1}{\\sigma_2^2}}}}\\frac{\\delta - (m_1 - m_2)}{\\sqrt{N * S_x^2 + M*S_y^2 + \\chi_{1, 0.5}^2*med^2}} \\ |\\  (X, Y) \\sim T_{N+M + \\kappa}$$\n",
        "\n",
        "\n",
        "\n",
        "Байесовский фактор для проверки гипотез:\n",
        "\n",
        "$$B = \\frac{P_0 / P_1}{\\Pi_0 / \\Pi_1}$$ где $\\Pi_0, \\Pi_1 - $ априорные вероятности первой гипотезы и альтернативы, $P_0, P_1$ - соответствующие апостериорные вероятности.\n",
        "\n",
        "\n",
        "\n",
        "\n",
        "Методы проверки:\n",
        "* **Модификация** $H_0$ : $\\Theta_0 = \\{(-\\epsilon, \\epsilon), (0, \\epsilon), (-\\epsilon, 0)\\}$ в завивимости от альтернативы $\\{\\neq 0, >0, <0\\}$\n",
        "  \n",
        "  Тогда плотность $p(x) = \\int_{\\Theta_0} q(t) p_t(x)dt + \\int_{\\Theta_1} q(t) p_t(x)dt $\n",
        "\n",
        "  $P_0 = \\frac{\\int_{\\Theta_0} q(t) p_t(x)dt}{p(x)} =  P_{posterior}(\\Theta_0), P_1 = \\frac{\\int_{\\Theta_1} q(t) p_t(x)dt}{p(x)} = P_{posterior}(\\Theta_1)$\n",
        "  \n",
        "  $\\Pi_0^{'} = \\int_{\\Theta_0} q(t) dt, \\Pi_1^{'} = \\int_{\\Theta_1} q(t) dt$\n",
        "\n",
        "  Априорные вероятности : $\\Pi_0 = \\frac{\\Pi_0^{'}}{\\Pi_0^{'} + \\Pi_1^{'}}$, $\\Pi_1 = \\frac{\\Pi_1^{'}}{\\Pi_0^{'} + \\Pi_1^{'}}$\n",
        "\n",
        "  $HDR = (posterior_{\\alpha / 2}, posterior_{1 - \\alpha / 2})$, т.к posterior - имеет распределение стьюдента со сдвигом и масштабом\n",
        "\n",
        "* **Метод Линдли**:\n",
        " \n",
        "  HDR - аналогично, параметры апостериорного распределения - аналогично\n",
        "\n",
        "* **Априор с атомом**: $H_0 : \\delta=t_0(=0)  \\  vs \\  H_1:\\  \\delta\\{\\neq, <, >\\}t_0$\n",
        "\n",
        "  $P(\\delta=0) = \\Pi_0, \\  P(\\delta \\in \\Theta_1) = \\frac{1 - \\Pi_0}{\\int_{\\Theta_1}q(t)dt}$\n",
        "\n",
        "  Плотность $p(x) =  \\Pi_0 p_{t_0}(x) + (1 - \\Pi_0)\\int_{\\Theta_1} q_1(t) p_t(x)dt = \\Pi_0 p_{t_0}(x) + (1 - \\Pi_0)\\frac{\\int_{\\Theta_1} q(t) p_t(x)dt }{ \\int_{\\Theta_1} q(t) dt}$\n",
        "  \n",
        "  $P_0 = \\frac{\\Pi_0 p_{t0}(x)}{p(x)}, P_1 = \\frac{(1 - \\Pi_0) \\int_{\\Theta_1} q(t) p_t(x)dt}{p(x) \\int_{\\Theta_1} q(t) dt}$\n",
        "\n",
        "  Байесовский фактор $B = \\frac{p_{t_0}(x)}{\\int_{\\Theta_1} q(t) p_t(x)dt} =  \\frac{p_{t_0}(x)}{p_1(x)}$ - отношение правдоподобия выборок. Будем использовать правдоподобие в точке $(\\overline{X} - \\overline{Y})$\n",
        "\n",
        "  Назовем scale - масштаб апостериорного распределения Стьюдента на $\\delta$\n",
        "\n",
        "  Тогда $p_{t_0}(\\overline{X} - \\overline{Y})$ = плотность распр-я $\\mathcal{N}(0, scale^2)$ в точке $(\\overline{X} - \\overline{Y})$ = плотность распр-я $\\mathcal{N}(\\overline{X} - \\overline{Y}, scale^2)$ в точке $0$\n",
        "\n",
        "   $p_1(\\overline{X} - \\overline{Y}) = $ вероятность $\\Theta_1 $ при распределении\n",
        "$\\mathcal{N}(\\overline{X} - \\overline{Y}, scale^2)$\n"
      ]
    },
    {
      "cell_type": "code",
      "metadata": {
        "id": "r0Z3gMUc3eZy",
        "colab_type": "code",
        "colab": {}
      },
      "source": [
        "class Hypotheses2NormEqualSigmaUniformPrior():\n",
        "  def __init__(self, alternative=\"<>\"):\n",
        "    assert alternative in ('<>', '<', '>')\n",
        "\n",
        "    self.alternative=alternative\n",
        "\n",
        "  def get_posterior(self, X, Y,\n",
        "                      kappa=1, med=2, \n",
        "                      mu1=0, mu2=0, \n",
        "                      sigma1=1, sigma2=1):\n",
        "    \"\"\"\n",
        "    return posterior distribution of delta\n",
        "    \"\"\"\n",
        "    n = len(X)\n",
        "    m = len(Y)\n",
        "\n",
        "    chi = sps.chi2(df=1).ppf(0.5)\n",
        "\n",
        "    self.df = n+m +kappa # степень свободы для апостериорного распределения\n",
        "\n",
        "    #масштаб апостериорного распределения\n",
        "    A1 = np.sum((X - X.mean())**2) + np.sum((Y - Y.mean())**2) + chi * med**2 #\n",
        "    A2 = 1./(n + 1./sigma1**2) + 1./(m + 1./sigma2**2) # A1 и A2 - части масштаба\n",
        "     \n",
        "    self.scale = np.sqrt(A1 * A2 / self.df)\n",
        "    \n",
        "    #сдвиг апостериорного распределения\n",
        "    m1 = (X.sum() + mu1 / sigma1**2) / (n + 1 / sigma1**2)\n",
        "    m2 = (Y.sum() + mu2 / sigma2**2) / (m + 1 / sigma2**2)\n",
        "    self.loc = m1 - m2\n",
        "\n",
        "    return sps.t(df=self.df, loc=self.loc, scale=self.scale)\n",
        "\n",
        "\n",
        "  def test(self, X, Y, method='Lindley', level=0.05, \n",
        "           kappa=1, med=2, mu1=0, mu2=0, sigma1=1, sigma2=1, eps=0.1,\n",
        "           *args, **kwargs):\n",
        "    \"\"\"\n",
        "    params:\n",
        "    X, Y : numpy arrays \n",
        "      two samples from normal distributions\n",
        "    method : in (Lindley, modify, atom) -\n",
        "      method of hypotheses testing\n",
        "    level : float\n",
        "      significance level\n",
        "    eps : float\n",
        "      width of H0 if method==modify\n",
        "\n",
        "    mu1 : float\n",
        "      mean from prior normal distribution for theta_x - mean of X sample\n",
        "    mu2 : float\n",
        "      mean from prior normal distribution for theta_y - mean of Y sample\n",
        "    \n",
        "    sigma1 : float\n",
        "      standart deviation from prior normal distribution for theta_x - mean of X sample\n",
        "    sigma2 : float\n",
        "      standart deviation --------------||-------------- Y sample\n",
        "\n",
        "    med : float\n",
        "      the prior median for the unknown standard deviation of samples  \n",
        "\n",
        "    kappa: df for the inverse chi-squared distribution used \n",
        "                        for the unknown standard deviation of \n",
        "    returns:\n",
        "    if method==modify\n",
        "      it returns dict : \n",
        "          posterior_df, \n",
        "          posterior_loc, \n",
        "          posterior_scale - params of the posterior distribution\n",
        "          HDR,\n",
        "          Posterior H0 prob - posterior probability P(H0),\n",
        "          Posterior H1 prob - posterior probability P(H1),\n",
        "          BF - Bayesian factor\n",
        "    if mehthod==Lindley:\n",
        "      dict:\n",
        "        posterior_df, \n",
        "        posterior_loc, \n",
        "        posterior_scale - params of the posterior distribution\n",
        "        HDR\n",
        "    if method==atom:\n",
        "      dict:\n",
        "        posterior_df, \n",
        "        posterior_loc, \n",
        "        posterior_scale - params of the posterior distribution,\n",
        "        Posterior H0 prob - posterior probability P(H0),\n",
        "        Posterior H1 prob - posterior probability P(H1),\n",
        "        BF - Bayesian factor\n",
        "    \"\"\"\n",
        "    assert method in ('modify', 'Lindley', 'atom')\n",
        "    assert 0 < level < 1\n",
        "    assert eps > 0\n",
        "\n",
        "    self.level=level\n",
        "\n",
        "    #априорное распределение\n",
        "    prior = sps.norm(mu1 - mu2, np.sqrt(sigma1**2 + sigma2**2))\n",
        "\n",
        "    #апостериорное расп-е\n",
        "    posterior = self.get_posterior(X, Y, \n",
        "                       kappa, med, \n",
        "                       mu1, mu2,\n",
        "                       sigma1, sigma2)\n",
        "\n",
        "    if method=='Lindley' or method=='modify':\n",
        "      HDR = (posterior.ppf(level/2.),\n",
        "              posterior.ppf(1 - level/2.))\n",
        "      \n",
        "    if method == 'modify':\n",
        "      if self.alternative== '<>':\n",
        "        p0 = posterior.cdf(eps) - posterior.cdf(-eps)\n",
        "        p1 = 1 - p0\n",
        "\n",
        "        pi0 = prior.cdf(eps) - prior.cdf(-eps)\n",
        "        pi1 = 1 - pi0\n",
        "      if self.alternative== '<':\n",
        "         p0 =  posterior.cdf(0) - posterior.cdf(-eps)\n",
        "         p1 = posterior.cdf(-eps)\n",
        "\n",
        "         pi0 =  prior.cdf(0) - prior.cdf(-eps)\n",
        "         pi1 = prior.cdf(-eps)\n",
        "\n",
        "      if self.alternative == '>':\n",
        "        p0 =  posterior.cdf(eps) - posterior.cdf(0)\n",
        "        p1 = 1 - posterior.cdf(eps)\n",
        "\n",
        "        pi0 =  prior.cdf(eps) - prior.cdf(0)\n",
        "        pi1 = 1 - prior.cdf(eps)\n",
        "\n",
        "      denominator = p0 + p1\n",
        "\n",
        "      p0 /= denominator\n",
        "      p1 /= denominator\n",
        "\n",
        "      return {\"posterior_df\":self.df, \n",
        "              \"posterior_loc\":self.loc, \n",
        "              \"posterior_scale\":self.scale, \n",
        "              \"HDR\":HDR,\n",
        "              \"Posterior H0 prob\": p0,\n",
        "              \"Posterior H1 prob\": p1,\n",
        "              \"BF\" : (p0/p1)/(pi0/pi1)}\n",
        "\n",
        "    if method == 'Lindley':\n",
        "      return {\"posterior_df\":self.df, \n",
        "              \"posterior_loc\":self.loc, \n",
        "              \"posterior_scale\":self.scale, \n",
        "              \"HDR\":HDR}\n",
        "          \n",
        "    if method == 'atom':\n",
        "      p0x = sps.norm(loc=0, scale=self.scale).pdf(X.mean() - Y.mean()) # правдоподобие выборки при H0: delta=0\n",
        "\n",
        "      Pi0 = 0.5 # возьмем априорное P(delta=0) = 1/2\n",
        "\n",
        "      p0 = Pi0*p0x\n",
        "      if self.alternative== '<>':\n",
        "        p1 = 1 - p0\n",
        "\n",
        "        BF = p0x\n",
        "      if self.alternative== '<':\n",
        "        p1 = (1 - p0) / prior.cdf(0)\n",
        "\n",
        "        BF = p0x / sps.norm(loc=X.mean() - Y.mean(), scale=self.scale).cdf(0)\n",
        "\n",
        "      if self.alternative== '>':\n",
        "        p1 = (1 - p0) / prior.sf(0)\n",
        "        BF = p0x / sps.norm(loc=X.mean() - Y.mean(), scale=self.scale).sf(0)\n",
        "      \n",
        "\n",
        "      denominator = p0 + p1\n",
        "      p0 /= denominator\n",
        "      p1 /= denominator\n",
        "\n",
        "      return {\"posterior_df\":self.df, \n",
        "              \"posterior_loc\":self.loc, \n",
        "              \"posterior_scale\":self.scale,\n",
        "              \"Posterior H0 prob\": p0,\n",
        "              \"Posterior H1 prob\": p1,\n",
        "              \"BF\":BF}\n"
      ],
      "execution_count": 0,
      "outputs": []
    },
    {
      "cell_type": "markdown",
      "metadata": {
        "id": "27ONnBKCIqhb",
        "colab_type": "text"
      },
      "source": [
        "Примеры работы\n",
        "\n",
        "$x_1, x_2, .., x_{40} \\sim \\mathcal{N}(1, 2^2)$\n",
        "\n",
        "$y_1, y_2, .., y_{30} \\sim \\mathcal{N}(1, 2^2)$\n",
        "\n",
        "$H_0 \\ : \\ \\delta = 0 \\ vs \\ H_1 : \\delta \\neq 0$\n",
        "\n",
        "Допустим у нас изначально правильное априорное предположение о среднем, т.е. $\\mu_1 = 1, \\mu_2 = 1$  \n",
        "\n",
        "Проверим с помощью модификации $H_0$ при $\\epsilon = 0.05$"
      ]
    },
    {
      "cell_type": "code",
      "metadata": {
        "id": "D9SlIOW5KZkF",
        "colab_type": "code",
        "colab": {
          "base_uri": "https://localhost:8080/",
          "height": 134
        },
        "outputId": "67103766-64ed-4ce9-920e-8512c3e84ef7"
      },
      "source": [
        "X = sps.norm(1, 2).rvs(40)\n",
        "Y = sps.norm(1, 2).rvs(30)\n",
        "\n",
        "stat_test = Hypotheses2NormEqualSigmaUniformPrior(alternative='<>')\n",
        "\n",
        "stat_test.test(X, Y, method='modify', mu1=1, mu2=1, eps=0.05)"
      ],
      "execution_count": 18,
      "outputs": [
        {
          "output_type": "execute_result",
          "data": {
            "text/plain": [
              "{'BF': 2.455108080555375,\n",
              " 'HDR': (-0.7422880406180131, 1.3038407962348004),\n",
              " 'Posterior H0 prob': 0.06651323822959421,\n",
              " 'Posterior H1 prob': 0.9334867617704058,\n",
              " 'posterior_df': 71,\n",
              " 'posterior_loc': 0.2807763778083937,\n",
              " 'posterior_scale': 0.5130859958890039}"
            ]
          },
          "metadata": {
            "tags": []
          },
          "execution_count": 18
        }
      ]
    },
    {
      "cell_type": "markdown",
      "metadata": {
        "id": "SNB6woHYK6XT",
        "colab_type": "text"
      },
      "source": [
        "Как мы можем видеть, $BF \\approx 2.5$, т.е. наша статистика с большой увернностью не отвергает нулевую гипотезу, то есть подверждает априор\n",
        "\n",
        "\n",
        "Пусть теперь $\\mu_1=0, \\mu_2=2$"
      ]
    },
    {
      "cell_type": "code",
      "metadata": {
        "id": "NRFvAavtK10Z",
        "colab_type": "code",
        "colab": {
          "base_uri": "https://localhost:8080/",
          "height": 134
        },
        "outputId": "e85dfa8d-c000-4b1d-f1a0-f5eccabe7a93"
      },
      "source": [
        "X = sps.norm(1, 2).rvs(40)\n",
        "Y = sps.norm(1, 2).rvs(30)\n",
        "\n",
        "stat_test = Hypotheses2NormEqualSigmaUniformPrior(alternative='<>')\n",
        "\n",
        "stat_test.test(X, Y, method='modify', mu1=0, mu2=2, eps=0.05)"
      ],
      "execution_count": 16,
      "outputs": [
        {
          "output_type": "execute_result",
          "data": {
            "text/plain": [
              "{'BF': 7.277262484232637,\n",
              " 'HDR': (-1.1543651484249025, 0.5202263687615784),\n",
              " 'Posterior H0 prob': 0.0709161950775945,\n",
              " 'Posterior H1 prob': 0.9290838049224055,\n",
              " 'posterior_df': 71,\n",
              " 'posterior_loc': -0.3170693898316619,\n",
              " 'posterior_scale': 0.41991952844204505}"
            ]
          },
          "metadata": {
            "tags": []
          },
          "execution_count": 16
        }
      ]
    },
    {
      "cell_type": "markdown",
      "metadata": {
        "id": "-LrpsPaoMWmC",
        "colab_type": "text"
      },
      "source": [
        "Значит, $BF \\approx 7.3$. Наша уверенность в нулевой гипотезе была довольно маленькая $(\\mu_1 - \\mu_2 = 1)$, и она сильно выросла после эксперимента\n",
        "\n",
        "В обоих случаях $\\delta$ попадает в $95\\% \\  HDR$\n",
        "\n",
        "Еще один эксперимент:\n",
        "\n",
        "\n",
        "$x_1, x_2, .., x_{40} \\sim \\mathcal{N}(1, 2^2)$\n",
        "\n",
        "$y_1, y_2, .., y_{30} \\sim \\mathcal{N}(2, 2^2)$\n",
        "\n",
        "$H_0 \\ : \\ \\delta = 0 \\ vs \\ H_1 : \\delta > 0$\n",
        "\n",
        "Априорные $\\mu_1=1, \\mu_2=1$"
      ]
    },
    {
      "cell_type": "code",
      "metadata": {
        "id": "Ho5oZKTePI71",
        "colab_type": "code",
        "colab": {
          "base_uri": "https://localhost:8080/",
          "height": 134
        },
        "outputId": "c0c20adb-d06d-4e13-ee75-7ee5b067ea08"
      },
      "source": [
        "X = sps.norm(1, 2).rvs(40)\n",
        "Y = sps.norm(2, 2).rvs(30)\n",
        "\n",
        "stat_test = Hypotheses2NormEqualSigmaUniformPrior(alternative='<')\n",
        "\n",
        "stat_test.test(X, Y, method='modify', mu1=1, mu2=1, eps=0.05)"
      ],
      "execution_count": 41,
      "outputs": [
        {
          "output_type": "execute_result",
          "data": {
            "text/plain": [
              "{'BF': 0.310703704359267,\n",
              " 'HDR': (-1.6903354509323665, 0.04502125382902067),\n",
              " 'Posterior H0 prob': 0.008936699167821941,\n",
              " 'Posterior H1 prob': 0.9910633008321781,\n",
              " 'posterior_df': 71,\n",
              " 'posterior_loc': -0.8226570985516728,\n",
              " 'posterior_scale': 0.4351569691255008}"
            ]
          },
          "metadata": {
            "tags": []
          },
          "execution_count": 41
        }
      ]
    },
    {
      "cell_type": "markdown",
      "metadata": {
        "id": "jDXe4n8ld9ED",
        "colab_type": "text"
      },
      "source": [
        "Тоже самое, только для атома (при априорной $\\Pi_0 = P(\\delta = 0) = 1/2$)"
      ]
    },
    {
      "cell_type": "code",
      "metadata": {
        "id": "D2Yb9B9odoZ8",
        "colab_type": "code",
        "colab": {
          "base_uri": "https://localhost:8080/",
          "height": 118
        },
        "outputId": "7b2ee02c-4b13-4229-dc91-8c844d385039"
      },
      "source": [
        "X = sps.norm(1, 2).rvs(40)\n",
        "Y = sps.norm(2, 2).rvs(30)\n",
        "\n",
        "stat_test = Hypotheses2NormEqualSigmaUniformPrior(alternative='<')\n",
        "\n",
        "stat_test.test(X, Y, method='atom', mu1=1, mu2=1)"
      ],
      "execution_count": 55,
      "outputs": [
        {
          "output_type": "execute_result",
          "data": {
            "text/plain": [
              "{'BF': 0.663487615211439,\n",
              " 'Posterior H0 prob': 0.15081288127511236,\n",
              " 'Posterior H1 prob': 0.8491871187248877,\n",
              " 'posterior_df': 71,\n",
              " 'posterior_loc': -0.42994297766719725,\n",
              " 'posterior_scale': 0.5497021743073559}"
            ]
          },
          "metadata": {
            "tags": []
          },
          "execution_count": 55
        }
      ]
    },
    {
      "cell_type": "markdown",
      "metadata": {
        "id": "_z2L5J28RU2_",
        "colab_type": "text"
      },
      "source": [
        "Здесь, $BF \\approx 0.3$(Для модификации), $BF \\approx 0.6$(Для априора с атомом 0.5),  т.е. уверенности в нулевой гипотезе стало сильно меньше по сравнению с априорными знаниями. Но при этом $0 \\in HDR$, т.е. мы не отвергли гипотезу.\n",
        "\n",
        "\n"
      ]
    },
    {
      "cell_type": "markdown",
      "metadata": {
        "id": "jgou_2zoPrIu",
        "colab_type": "text"
      },
      "source": [
        "Еще пример:\n",
        "\n",
        "$x_1, x_2, .., x_{40} \\sim \\mathcal{N}(1, 2^2)$\n",
        "\n",
        "$y_1, y_2, .., y_{30} \\sim \\mathcal{N}(3, 2^2)$\n",
        "\n",
        "$H_0 \\ : \\ \\delta = 0 \\ vs \\ H_1 : \\delta > 0$\n",
        "\n",
        "Априорные $\\mu_1=0, \\mu_2=5$"
      ]
    },
    {
      "cell_type": "code",
      "metadata": {
        "id": "FqMyO6dkPJO1",
        "colab_type": "code",
        "colab": {
          "base_uri": "https://localhost:8080/",
          "height": 134
        },
        "outputId": "b0139fe6-0dcb-4b48-b18a-942b83a23039"
      },
      "source": [
        "X = sps.norm(1, 2).rvs(40)\n",
        "Y = sps.norm(3, 2).rvs(30)\n",
        "\n",
        "stat_test = Hypotheses2NormEqualSigmaUniformPrior(alternative='<')\n",
        "\n",
        "stat_test.test(X, Y, method='modify', mu1=0, mu2=5, eps=0.05)"
      ],
      "execution_count": 48,
      "outputs": [
        {
          "output_type": "execute_result",
          "data": {
            "text/plain": [
              "{'BF': 4.6805604193222985,\n",
              " 'HDR': (-2.244498313368603, -0.6505423753675109),\n",
              " 'Posterior H0 prob': 0.00013573668525837485,\n",
              " 'Posterior H1 prob': 0.9998642633147417,\n",
              " 'posterior_df': 71,\n",
              " 'posterior_loc': -1.4475203443680569,\n",
              " 'posterior_scale': 0.3996994007036284}"
            ]
          },
          "metadata": {
            "tags": []
          },
          "execution_count": 48
        }
      ]
    },
    {
      "cell_type": "markdown",
      "metadata": {
        "id": "grBHK5qse9bA",
        "colab_type": "text"
      },
      "source": [
        "То же самое методом Линдли:"
      ]
    },
    {
      "cell_type": "code",
      "metadata": {
        "id": "u39XHHZKSpLr",
        "colab_type": "code",
        "colab": {
          "base_uri": "https://localhost:8080/",
          "height": 84
        },
        "outputId": "ee5df48f-1632-4617-dba7-687cb39b73b3"
      },
      "source": [
        "stat_test.test(X, Y, method='Lindley', mu1=0, mu2=5)"
      ],
      "execution_count": 65,
      "outputs": [
        {
          "output_type": "execute_result",
          "data": {
            "text/plain": [
              "{'HDR': (-2.883746443518306, -0.9961525546910344),\n",
              " 'posterior_df': 71,\n",
              " 'posterior_loc': -1.93994949910467,\n",
              " 'posterior_scale': 0.47333187081836064}"
            ]
          },
          "metadata": {
            "tags": []
          },
          "execution_count": 65
        }
      ]
    },
    {
      "cell_type": "markdown",
      "metadata": {
        "id": "px1BFTA1SUSW",
        "colab_type": "text"
      },
      "source": [
        "Здесь мы отвергли гипотезу методом Линдли, т.к. 0 не лежит в $HDR$. Но при этом $BF \\approx 3$, то есть уверенность в нулевой гипотезе выросла по сравнению с параметрами до начала эксперимента. Это потому что различие в средних $(\\theta_x - \\theta_y = -2)$ оказалось не такое серьезное, как мы в среднем априорно предполгали ($\\mu_1 - \\mu_2 = -5$)\n",
        "\n",
        "\n",
        "Попробуем методом априора с атомом при $\\Pi_0 = 1/2$"
      ]
    },
    {
      "cell_type": "code",
      "metadata": {
        "id": "G75_syTneghq",
        "colab_type": "code",
        "colab": {
          "base_uri": "https://localhost:8080/",
          "height": 118
        },
        "outputId": "9b1a8b41-d938-42ec-8ecc-03ecc0c5acdd"
      },
      "source": [
        "X = sps.norm(1, 2).rvs(40)\n",
        "Y = sps.norm(3, 2).rvs(30)\n",
        "\n",
        "stat_test = Hypotheses2NormEqualSigmaUniformPrior(alternative='<')\n",
        "\n",
        "stat_test.test(X, Y, method='atom', mu1=0, mu2=5, eps=0.05)"
      ],
      "execution_count": 67,
      "outputs": [
        {
          "output_type": "execute_result",
          "data": {
            "text/plain": [
              "{'BF': 0.0010810643126730858,\n",
              " 'Posterior H0 prob': 0.0005403494143214587,\n",
              " 'Posterior H1 prob': 0.9994596505856785,\n",
              " 'posterior_df': 71,\n",
              " 'posterior_loc': -1.861255403834445,\n",
              " 'posterior_scale': 0.4844603066712844}"
            ]
          },
          "metadata": {
            "tags": []
          },
          "execution_count": 67
        }
      ]
    },
    {
      "cell_type": "markdown",
      "metadata": {
        "id": "POqdEBTnfXiP",
        "colab_type": "text"
      },
      "source": [
        "Здесь, у нас $BF << 1$, потому что несмотря на априорное различие в среднем ($\\mu_1 - \\mu_2 = -5$), засчет атомарной вероятности нулевой гипотезы априорно мы предполагаем,  что $P(\\delta = 0) = 1/2$\n",
        "\n",
        "Получается, что отношение априорных вероятностей гипотез равна 1, а отношение вер-тей после эксперимента сильно меньше, так как реально выборки имеют разные средние. "
      ]
    },
    {
      "cell_type": "markdown",
      "metadata": {
        "id": "G7g2g4tpg7dV",
        "colab_type": "text"
      },
      "source": [
        "Если бы мы взяли выборки из распределений с одним средним\n",
        "\n",
        "$x_1, x_2, .., x_{40} \\sim \\mathcal{N}(1, 2^2)$\n",
        "\n",
        "$y_1, y_2, .., y_{30} \\sim \\mathcal{N}(1, 2^2)$\n",
        "\n",
        "то результат проверки с атомом $\\Pi_0 = 1/2$ будет другой: $BF \\approx 2.5$, то есть уверенность в гипотезе у нас вырастает."
      ]
    },
    {
      "cell_type": "code",
      "metadata": {
        "id": "hPetXnhd_A8l",
        "colab_type": "code",
        "colab": {
          "base_uri": "https://localhost:8080/",
          "height": 118
        },
        "outputId": "958ae234-feca-4248-f43e-1c48a5c2fe03"
      },
      "source": [
        "X = sps.norm(1, 2).rvs(40)\n",
        "Y = sps.norm(1, 2).rvs(30)\n",
        "\n",
        "stat_test = Hypotheses2NormEqualSigmaUniformPrior(alternative='<')\n",
        "\n",
        "stat_test.test(X, Y, method='atom', mu1=0, mu2=5, eps=0.05)"
      ],
      "execution_count": 68,
      "outputs": [
        {
          "output_type": "execute_result",
          "data": {
            "text/plain": [
              "{'BF': 2.22494491530585,\n",
              " 'Posterior H0 prob': 0.3992887572095373,\n",
              " 'Posterior H1 prob': 0.6007112427904628,\n",
              " 'posterior_df': 71,\n",
              " 'posterior_loc': 0.007776595914997242,\n",
              " 'posterior_scale': 0.46795607290623914}"
            ]
          },
          "metadata": {
            "tags": []
          },
          "execution_count": 68
        }
      ]
    },
    {
      "cell_type": "code",
      "metadata": {
        "id": "02cfCZh8Drn-",
        "colab_type": "code",
        "colab": {}
      },
      "source": [
        ""
      ],
      "execution_count": 0,
      "outputs": []
    }
  ]
}