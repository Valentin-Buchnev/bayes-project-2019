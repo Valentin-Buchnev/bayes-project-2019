{
  "nbformat": 4,
  "nbformat_minor": 0,
  "metadata": {
    "colab": {
      "name": "BayesNachinkin7Hypo.ipynb",
      "provenance": [],
      "collapsed_sections": []
    },
    "kernelspec": {
      "name": "python3",
      "display_name": "Python 3"
    }
  },
  "cells": [
    {
      "cell_type": "code",
      "metadata": {
        "id": "pkfApIjNEFoA",
        "colab_type": "code",
        "colab": {}
      },
      "source": [
        "import numpy as np\n",
        "import matplotlib.pyplot as plt\n",
        "import scipy.stats as sps"
      ],
      "execution_count": 0,
      "outputs": []
    },
    {
      "cell_type": "markdown",
      "metadata": {
        "id": "lrNlR9LSFJsN",
        "colab_type": "text"
      },
      "source": [
        "**Гипотеза 7.** Две нормальные выборки, дисперсии не равны и не известны. Простая гипотеза против сложной. Другое название: проблема Беренса-Фишера\n",
        "\n",
        "$$x_1, x_2, ..., x_n \\ \\sim \\ \\mathcal{N}(\\theta_x, \\sigma_x^2)$$\n",
        "$$y_1, y_2, ..., y_m \\ \\sim \\ \\mathcal{N}(\\theta_y, \\sigma_y^2)$$\n",
        "$$\\delta = \\theta_x - \\theta_y$$\n",
        "\n",
        "$$H_0: \\delta=0 \\  vs \\  H_1:\\  \\delta\\{\\neq, <, >\\}0$$\n",
        "\n",
        "Будем использовать равномерный априор:\n",
        "$$prior \\ :\\ \\pi(\\theta_x, \\theta_y, \\sigma_x^2, \\sigma_y^2) \\propto \\sigma_x^{-2} \\sigma_y^{-2}$$\n",
        "\n",
        "Т.е.:\n",
        "\n",
        "$$\\theta_x,\\theta_x, log \\sigma_x, log \\sigma_y \\propto 1$$\n",
        "\n",
        "Пусть $N, M$ - размеры выборок $X, Y$ соответственно\n",
        "\n",
        "$S_x^2, S_y^2$ - выборочные дисперсии (смещенные)\n",
        "$$posterior \\ : \\ \\frac{\\delta - (\\overline{X} - \\overline{Y})}{\\sqrt{\\frac{1}{N-1}S_x^2 + \\frac{1}{M-1}S_y^2 }} \\sim T$$\n",
        "\n",
        "Пусть $\\kappa = arctan \\frac{S_x / \\sqrt{N-1}}{S_y / \\sqrt{M-1}}$\n",
        "\n",
        "$T \\sim BF(N-1, M-1, \\kappa)$ - распределение Беренец-Фишера\n",
        "\n",
        "**Для сведения к распределению Стьюдента воспользуемся аппроксимацией Патила:**\n",
        "\n",
        "$f_1 = \\frac{N-1}{N-3}sin^2\\kappa + \\frac{M-1}{M-3}cos^2\\kappa$\n",
        "\n",
        "$f_2 = \\frac{(N-1)^2}{(N-3)^2(N-5)}sin^4\\kappa + \\frac{(M-1)^2}{(M-3)^2(M-5)}cos^4\\kappa$\n",
        "\n",
        "$b = 4 + \\frac{f_1^2}{f_2}, \\ a = \\sqrt{\\frac{f_1(b-2)}{b}}$\n",
        "\n",
        "Тогда $T/a \\sim T_b$ приближенно, где $T_b -$ распределение Стьюдента со степенью свободы $b$\n",
        "\n",
        "Байесовский фактор для проверки гипотез:\n",
        "\n",
        "$$B = \\frac{P_0 / P_1}{\\Pi_0 / \\Pi_1}$$ где $\\Pi_0, \\Pi_1 - $ априорные вероятности первой гипотезы и альтернативы, $P_0, P_1$ - соответствующие апостериорные вероятности.\n",
        "\n",
        "Методы проверки:\n",
        "\n",
        "* Модификация $H_0$ : $\\Theta_0 = \\{(-\\epsilon, \\epsilon), (0, \\epsilon), (-\\epsilon, 0)\\}$ в завивимости от альтернативы $\\{\\neq 0, >0, <0\\}$\n",
        "\n",
        "  плотность $p(x) = \\int_{\\Theta_0} q(t) p_t(x)dt + \\int_{\\Theta_1} q(t) p_t(x)dt $\n",
        "\n",
        "  $P_0 = \\frac{\\int_{\\Theta_0} q(t) p_t(x)dt}{p(x)} =  P_{posterior}(\\Theta_0), P_1 = \\frac{\\int_{\\Theta_1} q(t) p_t(x)dt}{p(x)} = P_{posterior}(\\Theta_1)$\n",
        "\n",
        "* Метод Линдли: ищем HDR - область наибольшей плотности\n",
        "\n",
        "  $HDR = (posterior_{\\alpha / 2}, posterior_{1 - \\alpha / 2})$, т.к posterior - имеет распределение стьюдента со сдвигом и масштабом (приближенно)\n",
        "\n",
        "  "
      ]
    },
    {
      "cell_type": "code",
      "metadata": {
        "id": "Oqr1GoFukOtR",
        "colab_type": "code",
        "colab": {}
      },
      "source": [
        "class BehrensFisherProblem():\n",
        "  def __init__(self, alternative=\"<>\"):\n",
        "    assert alternative in ('<>', '<', '>')\n",
        "\n",
        "    self.alternative=alternative\n",
        "\n",
        "\n",
        "  def get_posterior(self, X, Y):\n",
        "    \"\"\"\n",
        "    return posterior distribution of delta\n",
        "    calculate params of the posterior distribution using Patil approximation    \n",
        "    \"\"\"\n",
        "    N = len(X)\n",
        "    M = len(Y)\n",
        "    self.loc = X.mean() - Y.mean() # параметер сдвига\n",
        "\n",
        "    nominator = X.var() / (N - 1)\n",
        "    denominator = Y.var() / (M - 1)\n",
        "\n",
        "    kappa = np.arctan(np.sqrt(nominator / denominator))\n",
        "\n",
        "    #Аппроксимация Патила:\n",
        "    f1 = np.sin(kappa)**2 * (N-1)/(N-3) + np.cos(kappa)**2 * (M-1)/(M-3)\n",
        "    f2 = np.sin(kappa)**4 * (N-1)**2/(N-3)**2/(N-5) + np.cos(kappa)**4 * (M-1)**2/(M-3)**2/(M-5)\n",
        "\n",
        "    b = 4 + f1**2 / f2\n",
        "    a = np.sqrt(f1*(b-2)/b)\n",
        "\n",
        "    self.scale = np.sqrt(nominator + denominator) * a # подсчет масштаба распределения\n",
        "\n",
        "    self.df = b  #степени свободы апостериорного распределения\n",
        "\n",
        "    return sps.t(df=self.df, loc=self.loc, scale=self.scale)\n",
        "\n",
        "\n",
        "  def test(self, X, Y, method='Lindley', level=0.05, pi0=0.5, eps=0.1):\n",
        "    \"\"\"\n",
        "    params:\n",
        "    X, Y : numpy arrays \n",
        "      two samples from normal distributions\n",
        "    method : in (Lindley, modify, atom) -\n",
        "      method of hypotheses testing\n",
        "    level : float\n",
        "      significance level\n",
        "    pi0 : float\n",
        "      prior probability of H0: delta = 0\n",
        "    eps : float\n",
        "      width of H0. used only if method==modify\n",
        "\n",
        "    returns:\n",
        "    if method==modify\n",
        "      it returns dict : \n",
        "          posterior_df, \n",
        "          posterior_loc, \n",
        "          posterior_scale - params of the posterior distribution\n",
        "          HDR,\n",
        "          Posterior H0 prob - posterior probability P(H0),\n",
        "          Posterior H1 prob - posterior probability P(H1),\n",
        "          BF - Bayesian factor\n",
        "    if mehthod==Lindley:\n",
        "      dict:\n",
        "        posterior_df, \n",
        "        posterior_loc, \n",
        "        posterior_scale - params of the posterior distribution\n",
        "        HDR   \n",
        "    \"\"\"\n",
        "\n",
        "    assert method in ('modify', 'Lindley', 'atom')\n",
        "    assert 0 < level < 1\n",
        "\n",
        "    self.level=level\n",
        "\n",
        "    posterior = self.get_posterior(X, Y)\n",
        "\n",
        "    pi1 = 1 - pi0 # prior probability P(H1)\n",
        "\n",
        "    #считаем HDR\n",
        "    if method=='Lindley' or method=='modify':\n",
        "      HDR = (posterior.ppf(level/2.),\n",
        "              posterior.ppf(1 - level/2.))\n",
        "      \n",
        "    if method=='modify':\n",
        "      if self.alternative == '<>':\n",
        "        p0 = posterior.cdf(eps) - posterior.cdf(-eps)\n",
        "        p1 = 1 - p0\n",
        "\n",
        "      if self.alternative == '<':\n",
        "        p0 =  posterior.cdf(0) - posterior.cdf(-eps)\n",
        "        p1 = posterior.cdf(-eps)\n",
        "\n",
        "      if self.alternative == '>':\n",
        "        p0 =  posterior.cdf(eps) - posterior.cdf(0)\n",
        "        p1 = 1 - posterior.cdf(eps)\n",
        "\n",
        "      denominator = p0 + p1\n",
        "      p0 /= denominator\n",
        "      p1 /= denominator\n",
        "      \n",
        "      # байесовский фактор\n",
        "      BF = (p0 / p1) / (pi0 / pi1)\n",
        "\n",
        "      return {\"posterior_df\":self.df, \n",
        "              \"posterior_loc\":self.loc, \n",
        "              \"posterior_scale\":self.scale, \n",
        "              \"HDR\":HDR,\n",
        "              \"Posterior H0 prob\": p0,\n",
        "              \"Posterior H1 prob\": p1,\n",
        "              \"BF\" : (p0/p1)/(pi0/pi1)}\n",
        "\n",
        "    if method=='Lindley':\n",
        "      return {\"posterior_df\":self.df, \n",
        "              \"posterior_loc\":self.loc,\n",
        "              \"posterior_scale\":self.scale, \n",
        "              \"HDR\":HDR}\n"
      ],
      "execution_count": 0,
      "outputs": []
    },
    {
      "cell_type": "markdown",
      "metadata": {
        "id": "BlDLod0dijyM",
        "colab_type": "text"
      },
      "source": [
        "Примеры работы:\n",
        "\n",
        "$x_1, x_2, .., x_{30} \\sim \\mathcal{N}(1, 1^2)$\n",
        "\n",
        "$y_1, y_2, .., y_{40} \\sim \\mathcal{N}(2, 2^2)$\n",
        "\n",
        "$H_0 \\ : \\ \\delta = 0 \\ vs \\ H_1 : \\delta \\neq 0$"
      ]
    },
    {
      "cell_type": "code",
      "metadata": {
        "id": "5JMWLhfY5VCR",
        "colab_type": "code",
        "colab": {
          "base_uri": "https://localhost:8080/",
          "height": 134
        },
        "outputId": "0ccd88fb-d485-45ff-d090-af130f90157b"
      },
      "source": [
        "# тестирование методом модификации\n",
        "\n",
        "X = sps.norm(1, 1).rvs(30)\n",
        "Y = sps.norm(2, 2).rvs(40)\n",
        "\n",
        "stat_test = BehrensFisherProblem(alternative='<>')\n",
        "\n",
        "stat_test.test(X, Y, method='modify', eps=0.1)"
      ],
      "execution_count": 22,
      "outputs": [
        {
          "output_type": "execute_result",
          "data": {
            "text/plain": [
              "{'BF': 0.0011661318142949873,\n",
              " 'HDR': (-2.1177389517010132, -0.5372361422665846),\n",
              " 'Posterior H0 prob': 0.0011647735348195853,\n",
              " 'Posterior H1 prob': 0.9988352264651804,\n",
              " 'posterior_df': 50.320707963690005,\n",
              " 'posterior_loc': -1.3274875469837988,\n",
              " 'posterior_scale': 0.39350407465195175}"
            ]
          },
          "metadata": {
            "tags": []
          },
          "execution_count": 22
        }
      ]
    },
    {
      "cell_type": "code",
      "metadata": {
        "id": "H4iWyEcrjFYW",
        "colab_type": "code",
        "colab": {
          "base_uri": "https://localhost:8080/",
          "height": 84
        },
        "outputId": "a1bbba38-f843-4587-b4a2-fd1b2357d095"
      },
      "source": [
        "# тестирование методом Линдли\n",
        "\n",
        "stat_test.test(X, Y, method='Lindley')"
      ],
      "execution_count": 24,
      "outputs": [
        {
          "output_type": "execute_result",
          "data": {
            "text/plain": [
              "{'HDR': (-2.1177389517010132, -0.5372361422665846),\n",
              " 'posterior_df': 50.320707963690005,\n",
              " 'posterior_loc': -1.3274875469837988,\n",
              " 'posterior_scale': 0.39350407465195175}"
            ]
          },
          "metadata": {
            "tags": []
          },
          "execution_count": 24
        }
      ]
    },
    {
      "cell_type": "markdown",
      "metadata": {
        "id": "JgTMV_dDjAz9",
        "colab_type": "text"
      },
      "source": [
        "$BF << 1$\n",
        "\n",
        "гипотеза отвергается, так как 0 не лежит в 95% $HDR$"
      ]
    },
    {
      "cell_type": "markdown",
      "metadata": {
        "id": "ksEU31COjsqb",
        "colab_type": "text"
      },
      "source": [
        "Еще пример:\n",
        "\n",
        "$x_1, x_2, .., x_{100} \\sim \\mathcal{N}(1, 1^2)$\n",
        "\n",
        "$y_1, y_2, .., y_{100} \\sim \\mathcal{N}(1, 2^2)$\n",
        "\n",
        "$H_0 \\ : \\ \\delta = 0 \\ vs \\ H_1 : \\delta \\neq 0$"
      ]
    },
    {
      "cell_type": "markdown",
      "metadata": {
        "id": "T4L8FagSkMVE",
        "colab_type": "text"
      },
      "source": [
        "тестирование методом модфикации при $\\epsilon=0.1$ с заданной априорной вероятностью $P(\\Theta_0) = 1/2$"
      ]
    },
    {
      "cell_type": "code",
      "metadata": {
        "id": "79aA0YMsi_jo",
        "colab_type": "code",
        "colab": {
          "base_uri": "https://localhost:8080/",
          "height": 134
        },
        "outputId": "191d4e79-23a8-4ce7-a89d-fcb6bef69c34"
      },
      "source": [
        "# тестирование методом модификации\n",
        "\n",
        "X = sps.norm(1, 1).rvs(100)\n",
        "Y = sps.norm(1, 2).rvs(100)\n",
        "\n",
        "stat_test = BehrensFisherProblem(alternative='<>')\n",
        "\n",
        "stat_test.test(X, Y, method='modify', eps=0.1)"
      ],
      "execution_count": 52,
      "outputs": [
        {
          "output_type": "execute_result",
          "data": {
            "text/plain": [
              "{'BF': 0.4929642684155749,\n",
              " 'HDR': (-0.4932182537651342, 0.4210303110953807),\n",
              " 'Posterior H0 prob': 0.3301916052811758,\n",
              " 'Posterior H1 prob': 0.6698083947188243,\n",
              " 'posterior_df': 136.08091197004546,\n",
              " 'posterior_loc': -0.036093971334876684,\n",
              " 'posterior_scale': 0.23115685123263557}"
            ]
          },
          "metadata": {
            "tags": []
          },
          "execution_count": 52
        }
      ]
    },
    {
      "cell_type": "markdown",
      "metadata": {
        "id": "ptjm3qD3lP0r",
        "colab_type": "text"
      },
      "source": [
        "Линдли"
      ]
    },
    {
      "cell_type": "code",
      "metadata": {
        "id": "WRFdV-7SlOds",
        "colab_type": "code",
        "colab": {
          "base_uri": "https://localhost:8080/",
          "height": 84
        },
        "outputId": "58fd1954-93a3-4c32-ae56-6e697ac8a687"
      },
      "source": [
        "stat_test.test(X, Y, method='Lindley')"
      ],
      "execution_count": 53,
      "outputs": [
        {
          "output_type": "execute_result",
          "data": {
            "text/plain": [
              "{'HDR': (-0.4932182537651342, 0.4210303110953807),\n",
              " 'posterior_df': 136.08091197004546,\n",
              " 'posterior_loc': -0.036093971334876684,\n",
              " 'posterior_scale': 0.23115685123263557}"
            ]
          },
          "metadata": {
            "tags": []
          },
          "execution_count": 53
        }
      ]
    },
    {
      "cell_type": "markdown",
      "metadata": {
        "id": "vuFS2P30lpIH",
        "colab_type": "text"
      },
      "source": [
        "$0 \\in HDR$, то есть гипотеза не отвергается.\n",
        "\n",
        "Как мы видим, несмотря на верность равенства средних, и онтносительно высокую апостериорную вероятность нулевой гипотезы $(\\approx 0.33)$, $BF < 1$, т.к. апостериорная $\\Pi_0 = 1/2$\n",
        "\n",
        "Судя по всему $\\epsilon = 0.1 $ для такого примера это слишком маленькое значение\n",
        "\n",
        "Посмотрим на зависимость эпсилон в последнем примере (при фиксировании остальных параметров) на байесовский фактор."
      ]
    },
    {
      "cell_type": "code",
      "metadata": {
        "id": "n2nnAvZ9n_K7",
        "colab_type": "code",
        "colab": {}
      },
      "source": [
        "X = sps.norm(1, 1).rvs(100)\n",
        "Y = sps.norm(1, 2).rvs(100)\n",
        "\n",
        "stat_test1 = BehrensFisherProblem(alternative='<>')\n",
        "\n",
        "grid = np.linspace(1e-2, 0.5, 100)\n",
        "BF1 = []\n",
        "\n",
        "for g in grid:\n",
        "  BF1.append(stat_test1.test(X, Y, method='modify', eps=g)['BF'])"
      ],
      "execution_count": 0,
      "outputs": []
    },
    {
      "cell_type": "code",
      "metadata": {
        "id": "u2oq80gv5Vde",
        "colab_type": "code",
        "colab": {
          "base_uri": "https://localhost:8080/",
          "height": 350
        },
        "outputId": "6252aa65-5c5c-4a9b-d3d9-6ce5badab341"
      },
      "source": [
        "plt.figure(figsize=( 10, 5))\n",
        "\n",
        "plt.title(\"Зависимость байесовского фактора от значения eps при тестировании гипотезы методом модфикации\")\n",
        "plt.plot(grid, BF1, label='BF от eps, alternative : <>')\n",
        "plt.hlines(1, 0.01, 0.5, linestyles='--', label='BF=1')\n",
        "plt.xlabel(\"epsilon\")\n",
        "plt.ylabel(\"BF\")\n",
        "\n",
        "plt.legend()\n",
        "\n",
        "plt.show()"
      ],
      "execution_count": 94,
      "outputs": [
        {
          "output_type": "display_data",
          "data": {
            "image/png": "[encoded data removed]",
            "text/plain": [
              "<Figure size 720x360 with 1 Axes>"
            ]
          },
          "metadata": {
            "tags": []
          }
        }
      ]
    },
    {
      "cell_type": "markdown",
      "metadata": {
        "id": "pYHw-nm_qtBA",
        "colab_type": "text"
      },
      "source": [
        "Уже начиная с $\\epsilon \\approx 1.9$ байесовский фактор > 1"
      ]
    },
    {
      "cell_type": "markdown",
      "metadata": {
        "id": "YsGcDjcst2Lb",
        "colab_type": "text"
      },
      "source": [
        "Еще пример:\n",
        "\n",
        "$x_1, x_2, .., x_{20} \\sim \\mathcal{N}(3, 1^2)$\n",
        "\n",
        "$y_1, y_2, .., y_{30} \\sim \\mathcal{N}(1, 3^2)$\n",
        "\n",
        "$H_0 \\ : \\ \\delta = 0 \\ vs \\ H_1 : \\delta > 0$\n",
        "\n",
        "Априорная вер-ть нулевой гипотезы $\\Pi_0 = 0.01$ - то есть априорно считаем что с очень маленькой вероятностью мы получим гипотезу о равенстве средних"
      ]
    },
    {
      "cell_type": "code",
      "metadata": {
        "id": "VF02TMNCn49_",
        "colab_type": "code",
        "colab": {
          "base_uri": "https://localhost:8080/",
          "height": 134
        },
        "outputId": "686427ad-6b44-489e-8d49-0ee1fa5d8931"
      },
      "source": [
        "Y = sps.norm(1, 3).rvs(20)\n",
        "X = sps.norm(3, 1).rvs(30)\n",
        "\n",
        "stat_test = BehrensFisherProblem(alternative='>')\n",
        "\n",
        "stat_test.test(X, Y, method='modify', eps=0.2, pi0=0.1)"
      ],
      "execution_count": 105,
      "outputs": [
        {
          "output_type": "execute_result",
          "data": {
            "text/plain": [
              "{'BF': 0.04243911143103621,\n",
              " 'HDR': (0.49791378933807384, 3.0895610490290437),\n",
              " 'Posterior H0 prob': 0.0046933256511936736,\n",
              " 'Posterior H1 prob': 0.9953066743488063,\n",
              " 'posterior_df': 22.26751212370226,\n",
              " 'posterior_loc': 1.793737419183559,\n",
              " 'posterior_scale': 0.6252678980682252}"
            ]
          },
          "metadata": {
            "tags": []
          },
          "execution_count": 105
        }
      ]
    },
    {
      "cell_type": "markdown",
      "metadata": {
        "id": "8XY93KnZu3Hj",
        "colab_type": "text"
      },
      "source": [
        "0 не лежит в 95 % HDR, значит гипотеза отвергается\n",
        "\n",
        "BF << 1, значит  после эксперимента мы гораздо меньше стали верить нулевой гипотезе, по сравнению с априорными предположениями, несмотря на то, что априори мы в нулевую гипотезу почти не верили.\n",
        "\n",
        "Из вывода нашего теста мы можем верно отвергнуть гипотезу "
      ]
    }
  ]
}